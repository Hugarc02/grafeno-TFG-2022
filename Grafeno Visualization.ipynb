{
 "cells": [
  {
   "cell_type": "code",
   "execution_count": 1,
   "metadata": {},
   "outputs": [],
   "source": [
    "from grafeno import Graph"
   ]
  },
  {
   "cell_type": "code",
   "execution_count": 2,
   "metadata": {},
   "outputs": [],
   "source": [
    "from grafeno.transformers import get_pipeline"
   ]
  },
  {
   "cell_type": "code",
   "execution_count": 3,
   "metadata": {},
   "outputs": [],
   "source": [
    "import yaml\n",
    "semantic_pipeline = yaml.load(open('configs/semantic.yaml'))\n",
    "T = get_pipeline(['spacy_parse']+semantic_pipeline.get('transformers'))"
   ]
  },
  {
   "cell_type": "code",
   "execution_count": 24,
   "metadata": {},
   "outputs": [],
   "source": [
    "text = \"\"\"\n",
    "An extreme goal of AI research is to create computer programs that can learn, solve problems, and think logically.\n",
    "In practice, however, most applications have picked on problems which computers can do well.\n",
    "Searching data bases and doing calculations are things computers do better than people.\n",
    "On the other hand, \"perceiving its environment\" in any real sense is way beyond present-day computing.\n",
    "\"\"\""
   ]
  },
  {
   "cell_type": "code",
   "execution_count": 5,
   "metadata": {},
   "outputs": [],
   "source": [
    "text = \"\"\"\n",
    "John loves Mary. She loves Peter.\n",
    "\"\"\""
   ]
  },
  {
   "cell_type": "code",
   "execution_count": 25,
   "metadata": {},
   "outputs": [
    {
     "data": {
      "text/plain": [
       "<networkx.classes.digraph.DiGraph at 0x7f7f36a644a8>"
      ]
     },
     "execution_count": 25,
     "metadata": {},
     "output_type": "execute_result"
    }
   ],
   "source": [
    "G = Graph(text=text, transformer=T)\n",
    "G._g"
   ]
  },
  {
   "cell_type": "markdown",
   "metadata": {},
   "source": [
    "# Visualization"
   ]
  },
  {
   "cell_type": "code",
   "execution_count": 26,
   "metadata": {},
   "outputs": [],
   "source": [
    "import json"
   ]
  },
  {
   "cell_type": "code",
   "execution_count": 27,
   "metadata": {},
   "outputs": [],
   "source": [
    "nodes = G.nodes()\n",
    "links = [{'source': u, 'target': v, 'functor': data['functor']}\n",
    "        for u, v, data in G.all_edges()]\n",
    "with open('graph.json', 'w') as f:\n",
    "    json.dump({'nodes': nodes, 'links': links},\n",
    "             f, indent=4,)"
   ]
  },
  {
   "cell_type": "code",
   "execution_count": 3,
   "metadata": {
    "scrolled": false
   },
   "outputs": [
    {
     "data": {
      "text/html": [
       "<script src=\"http://d3js.org/d3.v3.min.js\"></script>\n",
       "<div id=\"d3-container\"><svg>\n",
       "    <defs>\n",
       "      <marker id=\"markerArrow\" markerWidth=\"6\" markerHeight=\"8\"\n",
       "        orient=\"auto\" refX=\"21\" refY=\"3\">\n",
       "  <path d=\"M0,3 L6,5 1,8\" />\n",
       "</marker>\n",
       "    </defs>\n",
       "    <g id=\"graph-layer\"></g>\n",
       "</svg></div>\n",
       "<style>\n",
       "#d3-container { width: 700px; height: 500px; border: 1px solid black; }\n",
       "#d3-container svg { width: 100%; height: 100%; }\n",
       ".node circle {\n",
       "    stroke: #fff;\n",
       "    stroke-width: 2px;\n",
       "}\n",
       ".link path {\n",
       "    stroke: #333; stroke-width: 2px;\n",
       "    fill: none;\n",
       "    marker-end: url(#markerArrow);\n",
       "}\n",
       ".link text, .node text {\n",
       "    stroke: #fff;\n",
       "    paint-order: stroke;\n",
       "    stroke-width: 4px;\n",
       "    fill: #333;\n",
       "    text-anchor: middle;\n",
       "    dominant-baseline: middle;\n",
       "    font-weight: boldest;\n",
       "    pointer-events: none;\n",
       "}\n",
       ".marker {\n",
       "    fill: #333;\n",
       "}\n",
       "</style>"
      ],
      "text/plain": [
       "<IPython.core.display.HTML object>"
      ]
     },
     "metadata": {},
     "output_type": "display_data"
    }
   ],
   "source": [
    "%%html\n",
    "<script src=\"http://d3js.org/d3.v3.min.js\"></script>\n",
    "<div id=\"d3-container\"><svg>\n",
    "    <defs>\n",
    "      <marker id=\"markerArrow\" markerWidth=\"6\" markerHeight=\"8\"\n",
    "        orient=\"auto\" refX=\"21\" refY=\"3\">\n",
    "  <path d=\"M0,3 L6,5 1,8\" />\n",
    "</marker>\n",
    "    </defs>\n",
    "    <g id=\"graph-layer\"></g>\n",
    "</svg></div>\n",
    "<style>\n",
    "#d3-container { width: 700px; height: 500px; border: 1px solid black; }\n",
    "#d3-container svg { width: 100%; height: 100%; }\n",
    ".node circle {\n",
    "    stroke: #fff;\n",
    "    stroke-width: 2px;\n",
    "}\n",
    ".link path {\n",
    "    stroke: #333; stroke-width: 2px;\n",
    "    fill: none;\n",
    "    marker-end: url(#markerArrow);\n",
    "}\n",
    ".link text, .node text {\n",
    "    stroke: #fff;\n",
    "    paint-order: stroke;\n",
    "    stroke-width: 4px;\n",
    "    fill: #333;\n",
    "    text-anchor: middle;\n",
    "    dominant-baseline: middle;\n",
    "    font-weight: boldest;\n",
    "    pointer-events: none;\n",
    "}\n",
    ".marker {\n",
    "    fill: #333;\n",
    "}\n",
    "</style>"
   ]
  },
  {
   "cell_type": "code",
   "execution_count": 4,
   "metadata": {},
   "outputs": [
    {
     "data": {
      "application/javascript": [
       "function node_color (node) {\n",
       "    switch (node.sempos) {\n",
       "        case 'n': return '#CF3C46';\n",
       "        case 'v': return '#44B033';\n",
       "        case 'j': return '#FBB136';\n",
       "        case 'r': return '#476FA5';\n",
       "    }\n",
       "}\n",
       "function link_distance (link) {\n",
       "    switch (link.functor) {\n",
       "        case 'SEQ':\n",
       "            return 300;\n",
       "        case 'ATTR':\n",
       "            return 80;\n",
       "        default:\n",
       "            return 140;\n",
       "    }\n",
       "}\n",
       "function middle_point (s, t) {\n",
       "    var mx = (t.x + s.x)/2;\n",
       "    var my = (t.y + s.y)/2;\n",
       "    var dx = (t.x - s.x);\n",
       "    var dy = (t.y - s.y);\n",
       "    return { x: mx+dy/3,\n",
       "             y: my-dx/3\n",
       "           };\n",
       "}\n",
       "var zoom = d3.behavior.zoom()\n",
       "                .scaleExtent([.5, 5])\n",
       "                .on('zoom', zoomed);\n",
       "var force = d3.layout.force()\n",
       "    .charge(-200)\n",
       "    .gravity(0.05)\n",
       "    .linkDistance(link_distance)\n",
       "    .size([700, 500]);\n",
       "var container = d3.select(\"#d3-container\").select(\"svg\")\n",
       "    .call(zoom);\n",
       "var svg = container.select(\"#graph-layer\");\n",
       "function zoomed(){\n",
       "    force.stop();\n",
       "    var canvasTranslate = zoom.translate();\n",
       "    svg.attr('transform', 'translate('+canvasTranslate[0]+','+canvasTranslate[1]+')scale(' + zoom.scale() + ')');\n",
       "    force.resume();\n",
       "}\n",
       "svg.selectAll(\"*\").remove();\n",
       "\n",
       "d3.json(\"graph.json\", function(error, graph) {\n",
       "    force.nodes(graph.nodes)\n",
       "        .links(graph.links)\n",
       "        .start();\n",
       "    var link = svg.selectAll(\".link\")\n",
       "        .data(graph.links)\n",
       "        .enter().append(\"g\")\n",
       "        .attr(\"class\", \"link\");\n",
       "    link.append(\"path\");\n",
       "    link.append(\"text\")\n",
       "        .text(function(d) { return d.functor; });\n",
       "    var node = svg.selectAll(\".node\")\n",
       "        .data(graph.nodes)\n",
       "        .enter().append(\"g\")\n",
       "        .attr(\"class\", \"node\");\n",
       "    node.append(\"circle\")\n",
       "        .attr(\"r\", 30)\n",
       "        .style(\"fill\", node_color)\n",
       "        .call(force.drag)\n",
       "        .on('mousedown', function(){d3.event.stopPropagation();});\n",
       "    node.append(\"text\")\n",
       "        .text(function(d){return d.concept;})\n",
       "        .attr(\"dx\", function(d){return d.x;})\n",
       "        .attr(\"dy\", function(d){return d.y;});\n",
       "    node.append(\"title\")\n",
       "        .text(function(d) { return d.concept; });\n",
       "    force.on(\"tick\", function() {\n",
       "        link.select('path')\n",
       "            .attr(\"d\", function(d) {\n",
       "                var s = d.source;\n",
       "                var t = d.target;\n",
       "                var m = middle_point(s, t);\n",
       "                return \"M\"+s.x+\",\"+s.y\n",
       "                    +\" Q\"+m.x+\",\"+m.y\n",
       "                    +\" \"+t.x+\",\"+t.y;\n",
       "        });\n",
       "        link.select('text')\n",
       "            .attr(\"dx\", function(d){return middle_point(d.source,d.target).x;})\n",
       "            .attr(\"dy\", function(d){return middle_point(d.source,d.target).y;});\n",
       "        node.select('circle')\n",
       "            .attr(\"cx\", function(d){return d.x;})\n",
       "            .attr(\"cy\", function(d){return d.y;});\n",
       "        node.select('text')\n",
       "            .attr(\"dx\", function(d){return d.x;})\n",
       "            .attr(\"dy\", function(d){return d.y;});\n",
       "        setTimeout(function(){\n",
       "            force.linkDistance(200);\n",
       "        }, 5000)\n",
       "    });\n",
       "});"
      ],
      "text/plain": [
       "<IPython.core.display.Javascript object>"
      ]
     },
     "metadata": {},
     "output_type": "display_data"
    }
   ],
   "source": [
    "%%javascript\n",
    "function node_color (node) {\n",
    "    switch (node.sempos) {\n",
    "        case 'n': return '#CF3C46';\n",
    "        case 'v': return '#44B033';\n",
    "        case 'j': return '#FBB136';\n",
    "        case 'r': return '#476FA5';\n",
    "    }\n",
    "}\n",
    "function link_distance (link) {\n",
    "    switch (link.functor) {\n",
    "        case 'SEQ':\n",
    "            return 300;\n",
    "        case 'ATTR':\n",
    "            return 80;\n",
    "        default:\n",
    "            return 140;\n",
    "    }\n",
    "}\n",
    "function middle_point (s, t) {\n",
    "    var mx = (t.x + s.x)/2;\n",
    "    var my = (t.y + s.y)/2;\n",
    "    var dx = (t.x - s.x);\n",
    "    var dy = (t.y - s.y);\n",
    "    return { x: mx+dy/3,\n",
    "             y: my-dx/3\n",
    "           };\n",
    "}\n",
    "var zoom = d3.behavior.zoom()\n",
    "                .scaleExtent([.5, 5])\n",
    "                .on('zoom', zoomed);\n",
    "var force = d3.layout.force()\n",
    "    .charge(-200)\n",
    "    .gravity(0.05)\n",
    "    .linkDistance(link_distance)\n",
    "    .size([700, 500]);\n",
    "var container = d3.select(\"#d3-container\").select(\"svg\")\n",
    "    .call(zoom);\n",
    "var svg = container.select(\"#graph-layer\");\n",
    "function zoomed(){\n",
    "    force.stop();\n",
    "    var canvasTranslate = zoom.translate();\n",
    "    svg.attr('transform', 'translate('+canvasTranslate[0]+','+canvasTranslate[1]+')scale(' + zoom.scale() + ')');\n",
    "    force.resume();\n",
    "}\n",
    "svg.selectAll(\"*\").remove();\n",
    "\n",
    "d3.json(\"graph.json\", function(error, graph) {\n",
    "    force.nodes(graph.nodes)\n",
    "        .links(graph.links)\n",
    "        .start();\n",
    "    var link = svg.selectAll(\".link\")\n",
    "        .data(graph.links)\n",
    "        .enter().append(\"g\")\n",
    "        .attr(\"class\", \"link\");\n",
    "    link.append(\"path\");\n",
    "    link.append(\"text\")\n",
    "        .text(function(d) { return d.functor; });\n",
    "    var node = svg.selectAll(\".node\")\n",
    "        .data(graph.nodes)\n",
    "        .enter().append(\"g\")\n",
    "        .attr(\"class\", \"node\");\n",
    "    node.append(\"circle\")\n",
    "        .attr(\"r\", 30)\n",
    "        .style(\"fill\", node_color)\n",
    "        .call(force.drag)\n",
    "        .on('mousedown', function(){d3.event.stopPropagation();});\n",
    "    node.append(\"text\")\n",
    "        .text(function(d){return d.concept;})\n",
    "        .attr(\"dx\", function(d){return d.x;})\n",
    "        .attr(\"dy\", function(d){return d.y;});\n",
    "    node.append(\"title\")\n",
    "        .text(function(d) { return d.concept; });\n",
    "    force.on(\"tick\", function() {\n",
    "        link.select('path')\n",
    "            .attr(\"d\", function(d) {\n",
    "                var s = d.source;\n",
    "                var t = d.target;\n",
    "                var m = middle_point(s, t);\n",
    "                return \"M\"+s.x+\",\"+s.y\n",
    "                    +\" Q\"+m.x+\",\"+m.y\n",
    "                    +\" \"+t.x+\",\"+t.y;\n",
    "        });\n",
    "        link.select('text')\n",
    "            .attr(\"dx\", function(d){return middle_point(d.source,d.target).x;})\n",
    "            .attr(\"dy\", function(d){return middle_point(d.source,d.target).y;});\n",
    "        node.select('circle')\n",
    "            .attr(\"cx\", function(d){return d.x;})\n",
    "            .attr(\"cy\", function(d){return d.y;});\n",
    "        node.select('text')\n",
    "            .attr(\"dx\", function(d){return d.x;})\n",
    "            .attr(\"dy\", function(d){return d.y;});\n",
    "        setTimeout(function(){\n",
    "            force.linkDistance(200);\n",
    "        }, 5000)\n",
    "    });\n",
    "});"
   ]
  },
  {
   "cell_type": "code",
   "execution_count": null,
   "metadata": {},
   "outputs": [],
   "source": []
  }
 ],
 "metadata": {
  "kernelspec": {
   "display_name": "Python 3",
   "language": "python",
   "name": "python3"
  },
  "language_info": {
   "codemirror_mode": {
    "name": "ipython",
    "version": 3
   },
   "file_extension": ".py",
   "mimetype": "text/x-python",
   "name": "python",
   "nbconvert_exporter": "python",
   "pygments_lexer": "ipython3",
   "version": "3.5.4"
  }
 },
 "nbformat": 4,
 "nbformat_minor": 2
}
