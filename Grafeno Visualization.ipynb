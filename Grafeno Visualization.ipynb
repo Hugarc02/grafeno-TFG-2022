{
 "cells": [
  {
   "cell_type": "code",
   "execution_count": 1,
   "metadata": {},
   "outputs": [],
   "source": [
    "from grafeno import Graph"
   ]
  },
  {
   "cell_type": "code",
   "execution_count": 2,
   "metadata": {},
   "outputs": [],
   "source": [
    "from grafeno.transformers import get_pipeline"
   ]
  },
  {
   "cell_type": "code",
   "execution_count": 3,
   "metadata": {},
   "outputs": [],
   "source": [
    "import yaml\n",
    "semantic_pipeline = yaml.load(open('configs/semantic.yaml'))\n",
    "T = get_pipeline(['spacy_parse']+semantic_pipeline.get('transformers'))"
   ]
  },
  {
   "cell_type": "code",
   "execution_count": 4,
   "metadata": {},
   "outputs": [],
   "source": [
    "text = \"\"\"\n",
    "An extreme goal of AI research is to create computer programs that can learn, solve problems, and think logically.\n",
    "In practice, however, most applications have picked on problems which computers can do well.\n",
    "Searching data bases and doing calculations are things computers do better than people.\n",
    "On the other hand, \"perceiving its environment\" in any real sense is way beyond present-day computing.\n",
    "\"\"\""
   ]
  },
  {
   "cell_type": "markdown",
   "metadata": {},
   "source": [
    "text = \"\"\"\n",
    "John loves Mary. She loves John.\n",
    "\"\"\""
   ]
  },
  {
   "cell_type": "code",
   "execution_count": 5,
   "metadata": {},
   "outputs": [],
   "source": [
    "G = Graph(text=text, transformer=T)"
   ]
  },
  {
   "cell_type": "code",
   "execution_count": 6,
   "metadata": {},
   "outputs": [
    {
     "data": {
      "text/html": [
       "<script src=\"http://d3js.org/d3.v3.min.js\"></script>"
      ],
      "text/plain": [
       "<IPython.core.display.HTML object>"
      ]
     },
     "metadata": {},
     "output_type": "display_data"
    }
   ],
   "source": [
    "from grafeno.jupyter import visualize"
   ]
  },
  {
   "cell_type": "code",
   "execution_count": 7,
   "metadata": {},
   "outputs": [
    {
     "data": {
      "text/html": [
       "\n",
       "    <div id=\"d3-container\"><svg>\n",
       "        <defs>\n",
       "          <marker id=\"markerArrow\" markerWidth=\"6\" markerHeight=\"8\"\n",
       "            orient=\"auto\" refX=\"21\" refY=\"3\">\n",
       "      <path d=\"M0,3 L6,5 1,8\" />\n",
       "    </marker>\n",
       "        </defs>\n",
       "        <g id=\"graph-layer\"></g>\n",
       "    </svg></div>\n",
       "    <style>\n",
       "    #d3-container { width: 700px; height: 500px; border: 1px solid black; }\n",
       "    #d3-container svg { width: 100%; height: 100%; }\n",
       "    .node circle {\n",
       "        stroke: #fff;\n",
       "        stroke-width: 2px;\n",
       "    }\n",
       "    .link path {\n",
       "        stroke: #333; stroke-width: 2px;\n",
       "        fill: none;\n",
       "        marker-end: url(#markerArrow);\n",
       "    }\n",
       "    .link text, .node text {\n",
       "        stroke: #fff;\n",
       "        paint-order: stroke;\n",
       "        stroke-width: 4px;\n",
       "        fill: #333;\n",
       "        text-anchor: middle;\n",
       "        dominant-baseline: middle;\n",
       "        font-weight: boldest;\n",
       "        pointer-events: none;\n",
       "    }\n",
       "    .marker {\n",
       "        fill: #333;\n",
       "    }\n",
       "    </style>\n",
       "    <script>\n",
       "    var graph = JSON.parse('{\"links\": [{\"functor\": \"ATTR\", \"source\": 0, \"target\": 2}, {\"functor\": \"ATTR\", \"source\": 4, \"target\": 1}, {\"functor\": \"COMP\", \"pval\": \"of\", \"class\": \"of\", \"source\": 4, \"target\": 10}, {\"functor\": \"THEME\", \"weight\": 1.0, \"source\": 5, \"target\": 12}, {\"functor\": \"SEQ\", \"source\": 9, \"target\": 0}, {\"functor\": \"THEME\", \"weight\": 1.0, \"source\": 9, \"target\": 7}, {\"functor\": \"ATTR\", \"source\": 10, \"target\": 6}, {\"functor\": \"SEQ\", \"source\": 11, \"target\": 9}, {\"functor\": \"AGENT\", \"weight\": 1.0, \"source\": 11, \"target\": 12}, {\"functor\": \"RESTR\", \"source\": 12, \"target\": 11}, {\"functor\": \"RESTR\", \"source\": 12, \"target\": 9}, {\"functor\": \"ATTR\", \"source\": 12, \"target\": 3}, {\"functor\": \"COP\", \"weight\": 1.0, \"source\": 13, \"target\": 4}, {\"functor\": \"COP\", \"source\": 13, \"target\": 5}, {\"functor\": \"ATTR\", \"source\": 14, \"target\": 17}, {\"functor\": \"ATTR\", \"source\": 15, \"target\": 20}, {\"functor\": \"COMP\", \"pval\": \"on\", \"class\": \"on\", \"source\": 15, \"target\": 22}, {\"functor\": \"AGENT\", \"weight\": 1.0, \"source\": 15, \"target\": 14}, {\"functor\": \"COMP\", \"pval\": \"in\", \"class\": \"in\", \"source\": 15, \"target\": 23}, {\"functor\": \"AGENT\", \"weight\": 1.0, \"source\": 16, \"target\": 18}, {\"functor\": \"ATTR\", \"source\": 16, \"target\": 19}, {\"functor\": \"THEME\", \"weight\": 1.0, \"source\": 16, \"target\": 22}, {\"functor\": \"RESTR\", \"source\": 22, \"target\": 16}, {\"functor\": \"THEME\", \"weight\": 1.0, \"source\": 24, \"target\": 33}, {\"functor\": \"ATTR\", \"source\": 25, \"target\": 29}, {\"functor\": \"AGENT\", \"weight\": 1.0, \"source\": 28, \"target\": 34}, {\"functor\": \"ATTR\", \"source\": 29, \"target\": 26}, {\"functor\": \"COMP\", \"pval\": \"than\", \"class\": \"than\", \"source\": 30, \"target\": 27}, {\"functor\": \"RESTR\", \"source\": 31, \"target\": 28}, {\"functor\": \"COP\", \"weight\": 1.0, \"source\": 32, \"target\": 24}, {\"functor\": \"COP\", \"weight\": 1.0, \"source\": 32, \"target\": 25}, {\"functor\": \"COP\", \"weight\": 1.0, \"source\": 32, \"target\": 31}, {\"functor\": \"COP\", \"pval\": \"on\", \"class\": \"on\", \"source\": 35, \"target\": 41}, {\"functor\": \"COP\", \"weight\": 1.0, \"source\": 35, \"target\": 37}, {\"functor\": \"COP\", \"pval\": \"beyond\", \"class\": \"beyond\", \"source\": 35, \"target\": 45}, {\"functor\": \"COMP\", \"pval\": \"in\", \"class\": \"in\", \"source\": 37, \"target\": 43}, {\"functor\": \"THEME\", \"weight\": 1.0, \"source\": 37, \"target\": 36}, {\"functor\": \"ATTR\", \"source\": 40, \"target\": 39}, {\"functor\": \"ATTR\", \"source\": 41, \"target\": 38}, {\"functor\": \"ATTR\", \"source\": 43, \"target\": 44}, {\"functor\": \"ATTR\", \"source\": 45, \"target\": 40}], \"nodes\": [{\"id\": 0, \"concept\": \"think\", \"sempos\": \"v\", \"tense\": null, \"polarity\": \"+\"}, {\"id\": 1, \"concept\": \"extreme\", \"sempos\": \"j\"}, {\"id\": 2, \"concept\": \"logically\", \"sempos\": \"r\"}, {\"id\": 3, \"proper\": false, \"sempos\": \"n\", \"num\": \"p\", \"concept\": \"computer\"}, {\"id\": 4, \"proper\": false, \"sempos\": \"n\", \"num\": \"p\", \"concept\": \"goal\"}, {\"id\": 5, \"concept\": \"create\", \"sempos\": \"v\", \"tense\": null, \"polarity\": \"+\"}, {\"id\": 6, \"proper\": false, \"sempos\": \"n\", \"num\": \"p\", \"concept\": \"ai\"}, {\"id\": 7, \"proper\": false, \"sempos\": \"n\", \"num\": \"p\", \"concept\": \"problem\"}, {\"id\": 8, \"concept\": \"can\", \"sempos\": \"v\", \"tense\": null, \"polarity\": \"+\"}, {\"id\": 9, \"concept\": \"solve\", \"sempos\": \"v\", \"polarity\": \"+\", \"tense\": null}, {\"id\": 10, \"proper\": false, \"sempos\": \"n\", \"num\": \"p\", \"concept\": \"research\"}, {\"id\": 11, \"concept\": \"learn\", \"sempos\": \"v\", \"polarity\": \"+\", \"tense\": null}, {\"id\": 12, \"proper\": false, \"sempos\": \"n\", \"num\": \"p\", \"concept\": \"program\"}, {\"id\": 13, \"concept\": \"be\", \"sempos\": \"v\", \"tense\": null, \"polarity\": \"+\"}, {\"id\": 14, \"proper\": false, \"sempos\": \"n\", \"num\": \"p\", \"concept\": \"application\"}, {\"id\": 15, \"concept\": \"pick\", \"tense\": null, \"sempos\": \"v\", \"aspect\": \"perfect\", \"polarity\": \"+\"}, {\"id\": 16, \"concept\": \"do\", \"sempos\": \"v\", \"tense\": null, \"polarity\": \"+\"}, {\"id\": 17, \"concept\": \"most\", \"sempos\": \"j\"}, {\"id\": 18, \"proper\": false, \"sempos\": \"n\", \"num\": \"p\", \"concept\": \"computer\"}, {\"id\": 19, \"concept\": \"well\", \"sempos\": \"r\"}, {\"id\": 20, \"concept\": \"however\", \"sempos\": \"r\"}, {\"id\": 21, \"concept\": \"can\", \"sempos\": \"v\", \"tense\": null, \"polarity\": \"+\"}, {\"id\": 22, \"proper\": false, \"sempos\": \"n\", \"num\": \"p\", \"concept\": \"problem\"}, {\"id\": 23, \"proper\": false, \"sempos\": \"n\", \"num\": \"p\", \"concept\": \"practice\"}, {\"id\": 24, \"concept\": \"do\", \"sempos\": \"v\", \"tense\": null, \"polarity\": \"+\"}, {\"id\": 25, \"proper\": false, \"sempos\": \"n\", \"num\": \"p\", \"concept\": \"searching\"}, {\"id\": 26, \"proper\": false, \"sempos\": \"n\", \"num\": \"p\", \"concept\": \"data\"}, {\"id\": 27, \"proper\": false, \"sempos\": \"n\", \"num\": \"p\", \"concept\": \"people\"}, {\"id\": 28, \"concept\": \"do\", \"sempos\": \"v\", \"tense\": null, \"polarity\": \"+\"}, {\"id\": 29, \"proper\": false, \"sempos\": \"n\", \"num\": \"p\", \"concept\": \"base\"}, {\"id\": 30, \"concept\": \"good\", \"sempos\": \"j\"}, {\"id\": 31, \"proper\": false, \"sempos\": \"n\", \"num\": \"p\", \"concept\": \"thing\"}, {\"id\": 32, \"concept\": \"be\", \"sempos\": \"v\", \"tense\": null, \"polarity\": \"+\"}, {\"id\": 33, \"proper\": false, \"sempos\": \"n\", \"num\": \"p\", \"concept\": \"calculation\"}, {\"id\": 34, \"proper\": false, \"sempos\": \"n\", \"num\": \"p\", \"concept\": \"computer\"}, {\"id\": 35, \"concept\": \"be\", \"sempos\": \"v\", \"tense\": null, \"polarity\": \"+\"}, {\"id\": 36, \"proper\": false, \"sempos\": \"n\", \"num\": \"p\", \"concept\": \"environment\"}, {\"id\": 37, \"concept\": \"perceive\", \"sempos\": \"v\", \"tense\": null, \"polarity\": \"+\"}, {\"id\": 38, \"concept\": \"other\", \"sempos\": \"j\"}, {\"id\": 39, \"concept\": \"present\", \"sempos\": \"j\"}, {\"id\": 40, \"proper\": false, \"sempos\": \"n\", \"num\": \"p\", \"concept\": \"day\"}, {\"id\": 41, \"proper\": false, \"sempos\": \"n\", \"num\": \"p\", \"concept\": \"hand\"}, {\"id\": 42, \"concept\": \"-PRON-\", \"sempos\": \"j\"}, {\"id\": 43, \"proper\": false, \"sempos\": \"n\", \"num\": \"p\", \"concept\": \"sense\"}, {\"id\": 44, \"concept\": \"real\", \"sempos\": \"j\"}, {\"id\": 45, \"proper\": false, \"sempos\": \"n\", \"num\": \"p\", \"concept\": \"computing\"}, {\"id\": 46, \"proper\": false, \"sempos\": \"n\", \"num\": \"p\", \"concept\": \"way\"}]}')\n",
       "\n",
       "    function node_color (node) {\n",
       "        switch (node.sempos) {\n",
       "            case 'n': return '#CF3C46';\n",
       "            case 'v': return '#44B033';\n",
       "            case 'j': return '#FBB136';\n",
       "            case 'r': return '#476FA5';\n",
       "        }\n",
       "    }\n",
       "    function link_distance (link) {\n",
       "        switch (link.functor) {\n",
       "            case 'SEQ':\n",
       "                return 300;\n",
       "            case 'ATTR':\n",
       "                return 80;\n",
       "            default:\n",
       "                return 140;\n",
       "        }\n",
       "    }\n",
       "    function middle_point (s, t) {\n",
       "        var mx = (t.x + s.x)/2;\n",
       "        var my = (t.y + s.y)/2;\n",
       "        var dx = (t.x - s.x);\n",
       "        var dy = (t.y - s.y);\n",
       "        return { x: mx+dy/3,\n",
       "                 y: my-dx/3\n",
       "               };\n",
       "    }\n",
       "    var zoom = d3.behavior.zoom()\n",
       "                    .scaleExtent([.5, 5])\n",
       "                    .on('zoom', zoomed);\n",
       "    var force = d3.layout.force()\n",
       "        .charge(-200)\n",
       "        .gravity(0.05)\n",
       "        .linkDistance(link_distance)\n",
       "        .size([700, 500]);\n",
       "    var container = d3.select(\"#d3-container\").select(\"svg\")\n",
       "        .call(zoom);\n",
       "    var svg = container.select(\"#graph-layer\");\n",
       "    function zoomed(){\n",
       "        force.stop();\n",
       "        var canvasTranslate = zoom.translate();\n",
       "        svg.attr('transform', 'translate('+canvasTranslate[0]+','+canvasTranslate[1]+')scale(' + zoom.scale() + ')');\n",
       "        force.resume();\n",
       "    }\n",
       "    svg.selectAll(\"*\").remove();\n",
       "\n",
       "    force.nodes(graph.nodes)\n",
       "        .links(graph.links)\n",
       "        .start();\n",
       "    var link = svg.selectAll(\".link\")\n",
       "        .data(graph.links)\n",
       "        .enter().append(\"g\")\n",
       "        .attr(\"class\", \"link\");\n",
       "    link.append(\"path\");\n",
       "    link.append(\"text\")\n",
       "        .text(function(d) { return d.functor; });\n",
       "    var node = svg.selectAll(\".node\")\n",
       "        .data(graph.nodes)\n",
       "        .enter().append(\"g\")\n",
       "        .attr(\"class\", \"node\");\n",
       "    node.append(\"circle\")\n",
       "        .attr(\"r\", 30)\n",
       "        .style(\"fill\", node_color)\n",
       "        .call(force.drag)\n",
       "        .on('mousedown', function(e){ d3.event.stopPropagation();});\n",
       "    node.append(\"text\")\n",
       "        .text(function(d){return d.concept;})\n",
       "        .attr(\"dx\", function(d){return d.x;})\n",
       "        .attr(\"dy\", function(d){return d.y;});\n",
       "    node.append(\"title\")\n",
       "        .text(function(d) { return d.concept; });\n",
       "    force.on(\"tick\", function() {\n",
       "        link.select('path')\n",
       "            .attr(\"d\", function(d) {\n",
       "                var s = d.source;\n",
       "                var t = d.target;\n",
       "                var m = middle_point(s, t);\n",
       "                return \"M\"+s.x+\",\"+s.y\n",
       "                    +\" Q\"+m.x+\",\"+m.y\n",
       "                    +\" \"+t.x+\",\"+t.y;\n",
       "        });\n",
       "        link.select('text')\n",
       "            .attr(\"dx\", function(d){return middle_point(d.source,d.target).x;})\n",
       "            .attr(\"dy\", function(d){return middle_point(d.source,d.target).y;});\n",
       "        node.select('circle')\n",
       "            .attr(\"cx\", function(d){return d.x;})\n",
       "            .attr(\"cy\", function(d){return d.y;});\n",
       "        node.select('text')\n",
       "            .attr(\"dx\", function(d){return d.x;})\n",
       "            .attr(\"dy\", function(d){return d.y;});\n",
       "        setTimeout(function(){\n",
       "            force.linkDistance(200);\n",
       "        }, 5000)\n",
       "    });\n",
       "    "
      ],
      "text/plain": [
       "<IPython.core.display.HTML object>"
      ]
     },
     "execution_count": 7,
     "metadata": {},
     "output_type": "execute_result"
    }
   ],
   "source": [
    "visualize(G)"
   ]
  },
  {
   "cell_type": "code",
   "execution_count": null,
   "metadata": {},
   "outputs": [],
   "source": []
  }
 ],
 "metadata": {
  "kernelspec": {
   "display_name": "Python 3",
   "language": "python",
   "name": "python3"
  },
  "language_info": {
   "codemirror_mode": {
    "name": "ipython",
    "version": 3
   },
   "file_extension": ".py",
   "mimetype": "text/x-python",
   "name": "python",
   "nbconvert_exporter": "python",
   "pygments_lexer": "ipython3",
   "version": "3.5.4"
  }
 },
 "nbformat": 4,
 "nbformat_minor": 2
}
