{
 "cells": [
  {
   "cell_type": "code",
   "execution_count": 1,
   "metadata": {},
   "outputs": [],
   "source": [
    "from grafeno import Graph"
   ]
  },
  {
   "cell_type": "code",
   "execution_count": 2,
   "metadata": {},
   "outputs": [],
   "source": [
    "from grafeno.transformers import get_pipeline"
   ]
  },
  {
   "cell_type": "code",
   "execution_count": 3,
   "metadata": {},
   "outputs": [],
   "source": [
    "import yaml\n",
    "semantic_pipeline = yaml.load(open('configs/semantic.yaml'))\n",
    "T = get_pipeline(['spacy_parse']+semantic_pipeline.get('transformers'))"
   ]
  },
  {
   "cell_type": "code",
   "execution_count": 4,
   "metadata": {},
   "outputs": [],
   "source": [
    "text = \"\"\"\n",
    "An extreme goal of AI research is to create computer programs that can learn, solve problems, and think logically.\n",
    "In practice, however, most applications have picked on problems which computers can do well.\n",
    "Searching data bases and doing calculations are things computers do better than people.\n",
    "On the other hand, \"perceiving its environment\" in any real sense is way beyond present-day computing.\n",
    "\"\"\""
   ]
  },
  {
   "cell_type": "markdown",
   "metadata": {},
   "source": [
    "text = \"\"\"\n",
    "John loves Mary. She loves John.\n",
    "\"\"\""
   ]
  },
  {
   "cell_type": "code",
   "execution_count": 5,
   "metadata": {},
   "outputs": [],
   "source": [
    "G = Graph(text=text, transformer=T)"
   ]
  },
  {
   "cell_type": "code",
   "execution_count": 6,
   "metadata": {},
   "outputs": [
    {
     "data": {
      "text/html": [
       "<script src=\"http://d3js.org/d3.v3.min.js\"></script>"
      ],
      "text/plain": [
       "<IPython.core.display.HTML object>"
      ]
     },
     "metadata": {},
     "output_type": "display_data"
    }
   ],
   "source": [
    "from grafeno.jupyter import visualize"
   ]
  },
  {
   "cell_type": "code",
   "execution_count": 7,
   "metadata": {},
   "outputs": [
    {
     "data": {
      "text/html": [
       "<div id=\"d3-container\"><svg>\n",
       "        <defs>\n",
       "            <marker id=\"markerArrow\" markerWidth=\"6\" markerHeight=\"8\"\n",
       "                orient=\"auto\" refX=\"21\" refY=\"3\">\n",
       "                <path d=\"M0,3 L6,5 1,8\" />\n",
       "            </marker>\n",
       "        </defs>\n",
       "        <g id=\"graph-layer\"></g>\n",
       "</svg></div>\n",
       "<style>\n",
       "    #d3-container { width: 700px; height: 500px; border: 1px solid black; }\n",
       "    #d3-container svg { width: 100%; height: 100%; }\n",
       "    .node circle {\n",
       "        stroke: #fff;\n",
       "        stroke-width: 2px;\n",
       "    }\n",
       "    .link path {\n",
       "        stroke: #333; stroke-width: 2px;\n",
       "        fill: none;\n",
       "        marker-end: url(#markerArrow);\n",
       "    }\n",
       "    .link text, .node text {\n",
       "        stroke: #fff;\n",
       "        paint-order: stroke;\n",
       "        stroke-width: 4px;\n",
       "        fill: #333;\n",
       "        text-anchor: middle;\n",
       "        dominant-baseline: middle;\n",
       "        font-weight: boldest;\n",
       "        pointer-events: none;\n",
       "    }\n",
       "    .marker {\n",
       "        fill: #333;\n",
       "    }\n",
       "</style>\n",
       "<script>var graph = JSON.parse('{\"nodes\": [{\"tense\": null, \"polarity\": \"+\", \"id\": 0, \"concept\": \"learn\", \"sempos\": \"v\"}, {\"tense\": null, \"polarity\": \"+\", \"id\": 1, \"concept\": \"can\", \"sempos\": \"v\"}, {\"id\": 2, \"concept\": \"extreme\", \"sempos\": \"j\"}, {\"tense\": null, \"polarity\": \"+\", \"id\": 3, \"concept\": \"be\", \"sempos\": \"v\"}, {\"num\": \"p\", \"id\": 4, \"proper\": false, \"concept\": \"computer\", \"sempos\": \"n\"}, {\"num\": \"p\", \"id\": 5, \"proper\": false, \"concept\": \"problem\", \"sempos\": \"n\"}, {\"num\": \"p\", \"id\": 6, \"proper\": false, \"concept\": \"goal\", \"sempos\": \"n\"}, {\"num\": \"p\", \"id\": 7, \"proper\": false, \"concept\": \"research\", \"sempos\": \"n\"}, {\"num\": \"p\", \"id\": 8, \"proper\": false, \"concept\": \"ai\", \"sempos\": \"n\"}, {\"id\": 9, \"concept\": \"logically\", \"sempos\": \"r\"}, {\"tense\": null, \"polarity\": \"+\", \"id\": 10, \"concept\": \"create\", \"sempos\": \"v\"}, {\"tense\": null, \"polarity\": \"+\", \"id\": 11, \"concept\": \"think\", \"sempos\": \"v\"}, {\"num\": \"p\", \"id\": 12, \"proper\": false, \"concept\": \"program\", \"sempos\": \"n\"}, {\"tense\": null, \"polarity\": \"+\", \"id\": 13, \"concept\": \"solve\", \"sempos\": \"v\"}, {\"id\": 14, \"concept\": \"most\", \"sempos\": \"j\"}, {\"num\": \"p\", \"id\": 15, \"proper\": false, \"concept\": \"computer\", \"sempos\": \"n\"}, {\"tense\": null, \"polarity\": \"+\", \"id\": 16, \"concept\": \"do\", \"sempos\": \"v\"}, {\"num\": \"p\", \"id\": 17, \"proper\": false, \"concept\": \"problem\", \"sempos\": \"n\"}, {\"id\": 18, \"concept\": \"however\", \"sempos\": \"r\"}, {\"num\": \"p\", \"id\": 19, \"proper\": false, \"concept\": \"application\", \"sempos\": \"n\"}, {\"tense\": null, \"polarity\": \"+\", \"id\": 20, \"concept\": \"pick\", \"aspect\": \"perfect\", \"sempos\": \"v\"}, {\"id\": 21, \"concept\": \"well\", \"sempos\": \"r\"}, {\"num\": \"p\", \"id\": 22, \"proper\": false, \"concept\": \"practice\", \"sempos\": \"n\"}, {\"tense\": null, \"polarity\": \"+\", \"id\": 23, \"concept\": \"can\", \"sempos\": \"v\"}, {\"num\": \"p\", \"id\": 24, \"proper\": false, \"concept\": \"thing\", \"sempos\": \"n\"}, {\"tense\": null, \"polarity\": \"+\", \"id\": 25, \"concept\": \"be\", \"sempos\": \"v\"}, {\"num\": \"p\", \"id\": 26, \"proper\": false, \"concept\": \"searching\", \"sempos\": \"n\"}, {\"num\": \"p\", \"id\": 27, \"proper\": false, \"concept\": \"data\", \"sempos\": \"n\"}, {\"id\": 28, \"concept\": \"good\", \"sempos\": \"j\"}, {\"tense\": null, \"polarity\": \"+\", \"id\": 29, \"concept\": \"do\", \"sempos\": \"v\"}, {\"tense\": null, \"polarity\": \"+\", \"id\": 30, \"concept\": \"do\", \"sempos\": \"v\"}, {\"num\": \"p\", \"id\": 31, \"proper\": false, \"concept\": \"people\", \"sempos\": \"n\"}, {\"num\": \"p\", \"id\": 32, \"proper\": false, \"concept\": \"base\", \"sempos\": \"n\"}, {\"num\": \"p\", \"id\": 33, \"proper\": false, \"concept\": \"calculation\", \"sempos\": \"n\"}, {\"num\": \"p\", \"id\": 34, \"proper\": false, \"concept\": \"computer\", \"sempos\": \"n\"}, {\"num\": \"p\", \"id\": 35, \"proper\": false, \"concept\": \"way\", \"sempos\": \"n\"}, {\"id\": 36, \"concept\": \"real\", \"sempos\": \"j\"}, {\"num\": \"p\", \"id\": 37, \"proper\": false, \"concept\": \"environment\", \"sempos\": \"n\"}, {\"num\": \"p\", \"id\": 38, \"proper\": false, \"concept\": \"computing\", \"sempos\": \"n\"}, {\"num\": \"p\", \"id\": 39, \"proper\": false, \"concept\": \"hand\", \"sempos\": \"n\"}, {\"num\": \"p\", \"id\": 40, \"proper\": false, \"concept\": \"day\", \"sempos\": \"n\"}, {\"id\": 41, \"concept\": \"-PRON-\", \"sempos\": \"j\"}, {\"id\": 42, \"concept\": \"present\", \"sempos\": \"j\"}, {\"tense\": null, \"polarity\": \"+\", \"id\": 43, \"concept\": \"perceive\", \"sempos\": \"v\"}, {\"num\": \"p\", \"id\": 44, \"proper\": false, \"concept\": \"sense\", \"sempos\": \"n\"}, {\"tense\": null, \"polarity\": \"+\", \"id\": 45, \"concept\": \"be\", \"sempos\": \"v\"}, {\"id\": 46, \"concept\": \"other\", \"sempos\": \"j\"}], \"links\": [{\"source\": 0, \"target\": 11, \"functor\": \"SEQ\"}, {\"weight\": 1.0, \"source\": 0, \"target\": 12, \"functor\": \"AGENT\"}, {\"source\": 0, \"target\": 13, \"functor\": \"SEQ\"}, {\"source\": 3, \"target\": 10, \"functor\": \"COP\"}, {\"weight\": 1.0, \"source\": 3, \"target\": 6, \"functor\": \"COP\"}, {\"source\": 6, \"target\": 2, \"functor\": \"ATTR\"}, {\"class\": \"of\", \"pval\": \"of\", \"source\": 6, \"target\": 7, \"functor\": \"COMP\"}, {\"source\": 7, \"target\": 8, \"functor\": \"ATTR\"}, {\"weight\": 1.0, \"source\": 10, \"target\": 12, \"functor\": \"THEME\"}, {\"source\": 11, \"target\": 9, \"functor\": \"ATTR\"}, {\"source\": 12, \"target\": 0, \"functor\": \"RESTR\"}, {\"source\": 12, \"target\": 11, \"functor\": \"RESTR\"}, {\"source\": 12, \"target\": 4, \"functor\": \"ATTR\"}, {\"source\": 12, \"target\": 13, \"functor\": \"RESTR\"}, {\"source\": 13, \"target\": 11, \"functor\": \"SEQ\"}, {\"weight\": 1.0, \"source\": 13, \"target\": 5, \"functor\": \"THEME\"}, {\"weight\": 1.0, \"source\": 16, \"target\": 17, \"functor\": \"THEME\"}, {\"source\": 16, \"target\": 21, \"functor\": \"ATTR\"}, {\"weight\": 1.0, \"source\": 16, \"target\": 15, \"functor\": \"AGENT\"}, {\"source\": 17, \"target\": 16, \"functor\": \"RESTR\"}, {\"source\": 19, \"target\": 14, \"functor\": \"ATTR\"}, {\"class\": \"on\", \"pval\": \"on\", \"source\": 20, \"target\": 17, \"functor\": \"COMP\"}, {\"source\": 20, \"target\": 18, \"functor\": \"ATTR\"}, {\"weight\": 1.0, \"source\": 20, \"target\": 19, \"functor\": \"AGENT\"}, {\"class\": \"in\", \"pval\": \"in\", \"source\": 20, \"target\": 22, \"functor\": \"COMP\"}, {\"source\": 24, \"target\": 29, \"functor\": \"RESTR\"}, {\"weight\": 1.0, \"source\": 25, \"target\": 24, \"functor\": \"COP\"}, {\"weight\": 1.0, \"source\": 25, \"target\": 26, \"functor\": \"COP\"}, {\"weight\": 1.0, \"source\": 25, \"target\": 30, \"functor\": \"COP\"}, {\"source\": 26, \"target\": 32, \"functor\": \"ATTR\"}, {\"class\": \"than\", \"pval\": \"than\", \"source\": 28, \"target\": 31, \"functor\": \"COMP\"}, {\"weight\": 1.0, \"source\": 29, \"target\": 34, \"functor\": \"AGENT\"}, {\"weight\": 1.0, \"source\": 30, \"target\": 33, \"functor\": \"THEME\"}, {\"source\": 32, \"target\": 27, \"functor\": \"ATTR\"}, {\"source\": 38, \"target\": 40, \"functor\": \"ATTR\"}, {\"source\": 39, \"target\": 46, \"functor\": \"ATTR\"}, {\"source\": 40, \"target\": 42, \"functor\": \"ATTR\"}, {\"class\": \"in\", \"pval\": \"in\", \"source\": 43, \"target\": 44, \"functor\": \"COMP\"}, {\"weight\": 1.0, \"source\": 43, \"target\": 37, \"functor\": \"THEME\"}, {\"source\": 44, \"target\": 36, \"functor\": \"ATTR\"}, {\"weight\": 1.0, \"source\": 45, \"target\": 43, \"functor\": \"COP\"}, {\"class\": \"beyond\", \"pval\": \"beyond\", \"source\": 45, \"target\": 38, \"functor\": \"COP\"}, {\"class\": \"on\", \"pval\": \"on\", \"source\": 45, \"target\": 39, \"functor\": \"COP\"}]}')\n",
       "function node_color (node) {\n",
       "    switch (node.sempos) {\n",
       "        case 'n': return '#CF3C46';\n",
       "        case 'v': return '#44B033';\n",
       "        case 'j': return '#FBB136';\n",
       "        case 'r': return '#476FA5';\n",
       "    }\n",
       "}\n",
       "function link_distance (link) {\n",
       "    switch (link.functor) {\n",
       "        case 'SEQ':\n",
       "            return 300;\n",
       "        case 'ATTR':\n",
       "            return 80;\n",
       "        default:\n",
       "            return 140;\n",
       "    }\n",
       "}\n",
       "function middle_point (s, t) {\n",
       "    var mx = (t.x + s.x)/2;\n",
       "    var my = (t.y + s.y)/2;\n",
       "    var dx = (t.x - s.x);\n",
       "    var dy = (t.y - s.y);\n",
       "    return { x: mx+dy/3,\n",
       "        y: my-dx/3\n",
       "    };\n",
       "}\n",
       "var zoom = d3.behavior.zoom()\n",
       "    .scaleExtent([.5, 5])\n",
       "    .on('zoom', zoomed);\n",
       "var force = d3.layout.force()\n",
       "    .charge(-200)\n",
       "    .gravity(0.05)\n",
       "    .linkDistance(link_distance)\n",
       "    .size([700, 500]);\n",
       "var container = d3.select(\"#d3-container\").select(\"svg\")\n",
       "    .call(zoom);\n",
       "var svg = container.select(\"#graph-layer\");\n",
       "function zoomed(){\n",
       "    force.stop();\n",
       "    var canvasTranslate = zoom.translate();\n",
       "    svg.attr('transform', 'translate('+canvasTranslate[0]+','+canvasTranslate[1]+')scale(' + zoom.scale() + ')');\n",
       "    force.resume();\n",
       "}\n",
       "svg.selectAll(\"*\").remove();\n",
       "\n",
       "force.nodes(graph.nodes)\n",
       "    .links(graph.links)\n",
       "    .start();\n",
       "var link = svg.selectAll(\".link\")\n",
       "    .data(graph.links)\n",
       "    .enter().append(\"g\")\n",
       "    .attr(\"class\", \"link\");\n",
       "link.append(\"path\");\n",
       "link.append(\"text\")\n",
       "    .text(function(d) { return d.functor; });\n",
       "var node = svg.selectAll(\".node\")\n",
       "    .data(graph.nodes)\n",
       "    .enter().append(\"g\")\n",
       "    .attr(\"class\", \"node\");\n",
       "node.append(\"circle\")\n",
       "    .attr(\"r\", 30)\n",
       "    .style(\"fill\", node_color)\n",
       "    .call(force.drag)\n",
       "    .on('mousedown', function(e){ d3.event.stopPropagation();});\n",
       "node.append(\"text\")\n",
       "    .text(function(d){return d.concept;})\n",
       "    .attr(\"dx\", function(d){return d.x;})\n",
       "    .attr(\"dy\", function(d){return d.y;});\n",
       "node.append(\"title\")\n",
       "    .text(function(d) { return d.concept; });\n",
       "force.on(\"tick\", function() {\n",
       "    link.select('path')\n",
       "        .attr(\"d\", function(d) {\n",
       "            var s = d.source;\n",
       "            var t = d.target;\n",
       "            var m = middle_point(s, t);\n",
       "            return \"M\"+s.x+\",\"+s.y\n",
       "                +\" Q\"+m.x+\",\"+m.y\n",
       "                +\" \"+t.x+\",\"+t.y;\n",
       "        });\n",
       "    link.select('text')\n",
       "        .attr(\"dx\", function(d){return middle_point(d.source,d.target).x;})\n",
       "        .attr(\"dy\", function(d){return middle_point(d.source,d.target).y;});\n",
       "    node.select('circle')\n",
       "        .attr(\"cx\", function(d){return d.x;})\n",
       "        .attr(\"cy\", function(d){return d.y;});\n",
       "    node.select('text')\n",
       "        .attr(\"dx\", function(d){return d.x;})\n",
       "        .attr(\"dy\", function(d){return d.y;});\n",
       "    setTimeout(function(){\n",
       "        force.linkDistance(200);\n",
       "    }, 5000)\n",
       "});\n",
       "</script>"
      ],
      "text/plain": [
       "<IPython.core.display.HTML object>"
      ]
     },
     "execution_count": 7,
     "metadata": {},
     "output_type": "execute_result"
    }
   ],
   "source": [
    "visualize(G)"
   ]
  },
  {
   "cell_type": "code",
   "execution_count": null,
   "metadata": {},
   "outputs": [],
   "source": []
  }
 ],
 "metadata": {
  "kernelspec": {
   "display_name": "Python 3",
   "language": "python",
   "name": "python3"
  },
  "language_info": {
   "codemirror_mode": {
    "name": "ipython",
    "version": 3
   },
   "file_extension": ".py",
   "mimetype": "text/x-python",
   "name": "python",
   "nbconvert_exporter": "python",
   "pygments_lexer": "ipython3",
   "version": "3.5.4"
  }
 },
 "nbformat": 4,
 "nbformat_minor": 2
}
