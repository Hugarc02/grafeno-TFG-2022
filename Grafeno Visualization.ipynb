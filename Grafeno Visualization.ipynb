{
 "cells": [
  {
   "cell_type": "code",
   "execution_count": 1,
   "metadata": {},
   "outputs": [],
   "source": [
    "from grafeno import Graph"
   ]
  },
  {
   "cell_type": "code",
   "execution_count": 2,
   "metadata": {},
   "outputs": [],
   "source": [
    "from grafeno.transformers import get_pipeline"
   ]
  },
  {
   "cell_type": "code",
   "execution_count": 3,
   "metadata": {},
   "outputs": [],
   "source": [
    "import yaml\n",
    "semantic_pipeline = yaml.load(open('configs/semantic.yaml'))\n",
    "T = get_pipeline(['spacy_parse']+semantic_pipeline.get('transformers'))"
   ]
  },
  {
   "cell_type": "code",
   "execution_count": 4,
   "metadata": {},
   "outputs": [],
   "source": [
    "text = \"\"\"\n",
    "An extreme goal of AI research is to create computer programs that can learn, solve problems, and think logically.\n",
    "In practice, however, most applications have picked on problems which computers can do well.\n",
    "Searching data bases and doing calculations are things computers do better than people.\n",
    "On the other hand, \"perceiving its environment\" in any real sense is way beyond present-day computing.\n",
    "\"\"\""
   ]
  },
  {
   "cell_type": "markdown",
   "metadata": {},
   "source": [
    "text = \"\"\"\n",
    "John loves Mary. She loves John.\n",
    "\"\"\""
   ]
  },
  {
   "cell_type": "code",
   "execution_count": 5,
   "metadata": {},
   "outputs": [],
   "source": [
    "G = Graph(text=text, transformer=T)"
   ]
  },
  {
   "cell_type": "code",
   "execution_count": 6,
   "metadata": {},
   "outputs": [
    {
     "data": {
      "text/html": [
       "<script src=\"http://d3js.org/d3.v3.min.js\"></script>"
      ],
      "text/plain": [
       "<IPython.core.display.HTML object>"
      ]
     },
     "metadata": {},
     "output_type": "display_data"
    }
   ],
   "source": [
    "from grafeno.jupyter import visualize"
   ]
  },
  {
   "cell_type": "code",
   "execution_count": 7,
   "metadata": {
    "scrolled": false
   },
   "outputs": [
    {
     "data": {
      "text/html": [
       "<style>\n",
       "    #d3-container {\n",
       "        display: block;\n",
       "        width: 100%;\n",
       "        padding-bottom: 75%;\n",
       "        border: 1px solid gray;\n",
       "        position: relative;\n",
       "    }\n",
       "    #d3-container > div {\n",
       "        position: absolute;\n",
       "        display: block;\n",
       "        top: 0; right: 0; bottom: 0; left: 0;\n",
       "    }\n",
       "    #d3-container svg {\n",
       "        width: 100%;\n",
       "        height: 100%;\n",
       "    }\n",
       "    .node circle {\n",
       "        stroke: #fff;\n",
       "        stroke-width: 2px;\n",
       "    }\n",
       "    .link path {\n",
       "        stroke: #333; stroke-width: 2px;\n",
       "        fill: none;\n",
       "        marker-end: url(#markerArrow);\n",
       "    }\n",
       "    .link text, .node text {\n",
       "        stroke: #fff;\n",
       "        paint-order: stroke;\n",
       "        stroke-width: 4px;\n",
       "        fill: #333;\n",
       "        text-anchor: middle;\n",
       "        dominant-baseline: middle;\n",
       "        font-weight: boldest;\n",
       "        pointer-events: none;\n",
       "    }\n",
       "    .marker {\n",
       "        fill: #333;\n",
       "    }\n",
       "</style>\n",
       "<div id=\"d3-container\">\n",
       "    <div>\n",
       "        <svg>\n",
       "            <defs>\n",
       "                <marker id=\"markerArrow\" markerWidth=\"6\" markerHeight=\"8\"\n",
       "                    orient=\"auto\" refX=\"21\" refY=\"3\">\n",
       "                    <path d=\"M0,3 L6,5 1,8\" />\n",
       "                </marker>\n",
       "            </defs>\n",
       "            <g id=\"graph-layer\"></g>\n",
       "        </svg>\n",
       "    </div>\n",
       "</div>\n",
       "<script>var graph = JSON.parse('{\"nodes\": [{\"concept\": \"program\", \"sempos\": \"n\", \"num\": \"p\", \"proper\": false, \"id\": 0}, {\"concept\": \"extreme\", \"sempos\": \"j\", \"id\": 1}, {\"concept\": \"problem\", \"sempos\": \"n\", \"num\": \"p\", \"proper\": false, \"id\": 2}, {\"concept\": \"logically\", \"sempos\": \"r\", \"id\": 3}, {\"concept\": \"research\", \"sempos\": \"n\", \"num\": \"p\", \"proper\": false, \"id\": 4}, {\"concept\": \"learn\", \"sempos\": \"v\", \"id\": 5, \"tense\": null, \"polarity\": \"+\"}, {\"concept\": \"computer\", \"sempos\": \"n\", \"num\": \"p\", \"proper\": false, \"id\": 6}, {\"concept\": \"create\", \"sempos\": \"v\", \"id\": 7, \"tense\": null, \"polarity\": \"+\"}, {\"concept\": \"think\", \"sempos\": \"v\", \"id\": 8, \"tense\": null, \"polarity\": \"+\"}, {\"concept\": \"be\", \"sempos\": \"v\", \"id\": 9, \"tense\": null, \"polarity\": \"+\"}, {\"concept\": \"ai\", \"sempos\": \"n\", \"num\": \"p\", \"proper\": false, \"id\": 10}, {\"concept\": \"can\", \"sempos\": \"v\", \"id\": 11, \"tense\": null, \"polarity\": \"+\"}, {\"concept\": \"goal\", \"sempos\": \"n\", \"num\": \"p\", \"proper\": false, \"id\": 12}, {\"concept\": \"solve\", \"sempos\": \"v\", \"id\": 13, \"tense\": null, \"polarity\": \"+\"}, {\"concept\": \"well\", \"sempos\": \"r\", \"id\": 14}, {\"sempos\": \"v\", \"aspect\": \"perfect\", \"polarity\": \"+\", \"concept\": \"pick\", \"id\": 15, \"tense\": null}, {\"concept\": \"practice\", \"sempos\": \"n\", \"num\": \"p\", \"proper\": false, \"id\": 16}, {\"concept\": \"however\", \"sempos\": \"r\", \"id\": 17}, {\"concept\": \"computer\", \"sempos\": \"n\", \"num\": \"p\", \"proper\": false, \"id\": 18}, {\"concept\": \"do\", \"sempos\": \"v\", \"id\": 19, \"tense\": null, \"polarity\": \"+\"}, {\"concept\": \"can\", \"sempos\": \"v\", \"id\": 20, \"tense\": null, \"polarity\": \"+\"}, {\"concept\": \"most\", \"sempos\": \"j\", \"id\": 21}, {\"concept\": \"problem\", \"sempos\": \"n\", \"num\": \"p\", \"proper\": false, \"id\": 22}, {\"concept\": \"application\", \"sempos\": \"n\", \"num\": \"p\", \"proper\": false, \"id\": 23}, {\"concept\": \"base\", \"sempos\": \"n\", \"num\": \"p\", \"proper\": false, \"id\": 24}, {\"concept\": \"do\", \"sempos\": \"v\", \"id\": 25, \"tense\": null, \"polarity\": \"+\"}, {\"concept\": \"people\", \"sempos\": \"n\", \"num\": \"p\", \"proper\": false, \"id\": 26}, {\"num\": \"p\", \"concept\": \"searching\", \"sempos\": \"n\", \"proper\": false, \"id\": 27}, {\"concept\": \"be\", \"sempos\": \"v\", \"id\": 28, \"tense\": null, \"polarity\": \"+\"}, {\"concept\": \"computer\", \"sempos\": \"n\", \"num\": \"p\", \"proper\": false, \"id\": 29}, {\"concept\": \"thing\", \"sempos\": \"n\", \"num\": \"p\", \"proper\": false, \"id\": 30}, {\"concept\": \"good\", \"sempos\": \"j\", \"id\": 31}, {\"concept\": \"data\", \"sempos\": \"n\", \"num\": \"p\", \"proper\": false, \"id\": 32}, {\"concept\": \"do\", \"sempos\": \"v\", \"id\": 33, \"tense\": null, \"polarity\": \"+\"}, {\"concept\": \"calculation\", \"sempos\": \"n\", \"num\": \"p\", \"proper\": false, \"id\": 34}, {\"concept\": \"-PRON-\", \"sempos\": \"j\", \"id\": 35}, {\"concept\": \"environment\", \"sempos\": \"n\", \"num\": \"p\", \"proper\": false, \"id\": 36}, {\"concept\": \"sense\", \"sempos\": \"n\", \"num\": \"p\", \"proper\": false, \"id\": 37}, {\"concept\": \"present\", \"sempos\": \"j\", \"id\": 38}, {\"concept\": \"be\", \"sempos\": \"v\", \"id\": 39, \"tense\": null, \"polarity\": \"+\"}, {\"concept\": \"way\", \"sempos\": \"n\", \"num\": \"p\", \"proper\": false, \"id\": 40}, {\"concept\": \"hand\", \"sempos\": \"n\", \"num\": \"p\", \"proper\": false, \"id\": 41}, {\"concept\": \"computing\", \"sempos\": \"n\", \"num\": \"p\", \"proper\": false, \"id\": 42}, {\"concept\": \"other\", \"sempos\": \"j\", \"id\": 43}, {\"concept\": \"perceive\", \"sempos\": \"v\", \"id\": 44, \"tense\": null, \"polarity\": \"+\"}, {\"concept\": \"real\", \"sempos\": \"j\", \"id\": 45}, {\"concept\": \"day\", \"sempos\": \"n\", \"num\": \"p\", \"proper\": false, \"id\": 46}], \"links\": [{\"functor\": \"RESTR\", \"target\": 8, \"source\": 0}, {\"functor\": \"RESTR\", \"target\": 5, \"source\": 0}, {\"functor\": \"ATTR\", \"target\": 6, \"source\": 0}, {\"functor\": \"RESTR\", \"target\": 13, \"source\": 0}, {\"functor\": \"ATTR\", \"target\": 10, \"source\": 4}, {\"weight\": 1.0, \"functor\": \"AGENT\", \"target\": 0, \"source\": 5}, {\"functor\": \"SEQ\", \"target\": 8, \"source\": 5}, {\"functor\": \"SEQ\", \"target\": 13, \"source\": 5}, {\"weight\": 1.0, \"functor\": \"THEME\", \"target\": 0, \"source\": 7}, {\"functor\": \"ATTR\", \"target\": 3, \"source\": 8}, {\"weight\": 1.0, \"functor\": \"COP\", \"target\": 12, \"source\": 9}, {\"functor\": \"COP\", \"target\": 7, \"source\": 9}, {\"functor\": \"ATTR\", \"target\": 1, \"source\": 12}, {\"pval\": \"of\", \"functor\": \"COMP\", \"target\": 4, \"class\": \"of\", \"source\": 12}, {\"functor\": \"SEQ\", \"target\": 8, \"source\": 13}, {\"weight\": 1.0, \"functor\": \"THEME\", \"target\": 2, \"source\": 13}, {\"pval\": \"in\", \"functor\": \"COMP\", \"target\": 16, \"class\": \"in\", \"source\": 15}, {\"functor\": \"ATTR\", \"target\": 17, \"source\": 15}, {\"pval\": \"on\", \"functor\": \"COMP\", \"target\": 22, \"class\": \"on\", \"source\": 15}, {\"weight\": 1.0, \"functor\": \"AGENT\", \"target\": 23, \"source\": 15}, {\"weight\": 1.0, \"functor\": \"AGENT\", \"target\": 18, \"source\": 19}, {\"functor\": \"ATTR\", \"target\": 14, \"source\": 19}, {\"weight\": 1.0, \"functor\": \"THEME\", \"target\": 22, \"source\": 19}, {\"functor\": \"RESTR\", \"target\": 19, \"source\": 22}, {\"functor\": \"ATTR\", \"target\": 21, \"source\": 23}, {\"functor\": \"ATTR\", \"target\": 32, \"source\": 24}, {\"weight\": 1.0, \"functor\": \"AGENT\", \"target\": 29, \"source\": 25}, {\"functor\": \"ATTR\", \"target\": 24, \"source\": 27}, {\"weight\": 1.0, \"functor\": \"COP\", \"target\": 33, \"source\": 28}, {\"weight\": 1.0, \"functor\": \"COP\", \"target\": 27, \"source\": 28}, {\"weight\": 1.0, \"functor\": \"COP\", \"target\": 30, \"source\": 28}, {\"functor\": \"RESTR\", \"target\": 25, \"source\": 30}, {\"pval\": \"than\", \"functor\": \"COMP\", \"target\": 26, \"class\": \"than\", \"source\": 31}, {\"weight\": 1.0, \"functor\": \"THEME\", \"target\": 34, \"source\": 33}, {\"functor\": \"ATTR\", \"target\": 45, \"source\": 37}, {\"pval\": \"on\", \"functor\": \"COP\", \"target\": 41, \"class\": \"on\", \"source\": 39}, {\"pval\": \"beyond\", \"functor\": \"COP\", \"target\": 42, \"class\": \"beyond\", \"source\": 39}, {\"weight\": 1.0, \"functor\": \"COP\", \"target\": 44, \"source\": 39}, {\"functor\": \"ATTR\", \"target\": 43, \"source\": 41}, {\"functor\": \"ATTR\", \"target\": 46, \"source\": 42}, {\"weight\": 1.0, \"functor\": \"THEME\", \"target\": 36, \"source\": 44}, {\"pval\": \"in\", \"functor\": \"COMP\", \"target\": 37, \"class\": \"in\", \"source\": 44}, {\"functor\": \"ATTR\", \"target\": 38, \"source\": 46}]}')\n",
       "'use strict';\n",
       "\n",
       "function node_color(node) {\n",
       "    switch (node.sempos) {\n",
       "        case 'n':\n",
       "            return '#CF3C46';\n",
       "        case 'v':\n",
       "            return '#44B033';\n",
       "        case 'j':\n",
       "            return '#FBB136';\n",
       "        case 'r':\n",
       "            return '#476FA5';\n",
       "    }\n",
       "}\n",
       "function link_distance(link) {\n",
       "    switch (link.functor) {\n",
       "        case 'SEQ':\n",
       "            return 300;\n",
       "        case 'ATTR':\n",
       "            return 80;\n",
       "        default:\n",
       "            return 140;\n",
       "    }\n",
       "}\n",
       "function middle_point(s, t) {\n",
       "    var mx = (t.x + s.x) / 2;\n",
       "    var my = (t.y + s.y) / 2;\n",
       "    var dx = t.x - s.x;\n",
       "    var dy = t.y - s.y;\n",
       "    return { x: mx + dy / 3,\n",
       "        y: my - dx / 3\n",
       "    };\n",
       "}\n",
       "var zoom = d3.behavior.zoom().scaleExtent([.5, 5]).on('zoom', zoomed);\n",
       "var force = d3.layout.force().charge(-200).gravity(0.05).linkDistance(link_distance);\n",
       "var container = d3.select(\"#d3-container\").select(\"div\").call(zoom);\n",
       "var svg = container.select(\"#graph-layer\");\n",
       "function zoomed() {\n",
       "    force.stop();\n",
       "    var canvasTranslate = zoom.translate();\n",
       "    svg.attr('transform', 'translate(' + canvasTranslate[0] + ',' + canvasTranslate[1] + ')scale(' + zoom.scale() + ')');\n",
       "    force.resume();\n",
       "}\n",
       "\n",
       "force.nodes(graph.nodes).links(graph.links).start();\n",
       "var link = svg.selectAll(\".link\").data(graph.links).enter().append(\"g\").attr(\"class\", \"link\");\n",
       "link.append(\"path\");\n",
       "link.append(\"text\").text(function (d) {\n",
       "    return d.functor;\n",
       "});\n",
       "var node = svg.selectAll(\".node\").data(graph.nodes).enter().append(\"g\").attr(\"class\", \"node\");\n",
       "node.append(\"circle\").attr(\"r\", 30).style(\"fill\", node_color).call(force.drag).on('mousedown', function () {\n",
       "    return d3.event.stopPropagation();\n",
       "});\n",
       "node.append(\"text\").text(function (d) {\n",
       "    return d.concept;\n",
       "}).attr(\"dx\", function (d) {\n",
       "    return d.x;\n",
       "}).attr(\"dy\", function (d) {\n",
       "    return d.y;\n",
       "});\n",
       "node.append(\"title\").text(function (d) {\n",
       "    return d.concept;\n",
       "});\n",
       "force.on(\"tick\", function () {\n",
       "    link.select('path').attr(\"d\", function (d) {\n",
       "        var s = d.source,\n",
       "            t = d.target;\n",
       "        m = middle_point(s, t);\n",
       "        return 'M' + s.x + ',' + s.y + ' Q' + m.x + ',' + m.y + ' ' + t.x + ',' + t.y;\n",
       "    });\n",
       "    link.select('text').attr(\"dx\", function (d) {\n",
       "        return middle_point(d.source, d.target).x;\n",
       "    }).attr(\"dy\", function (d) {\n",
       "        return middle_point(d.source, d.target).y;\n",
       "    });\n",
       "    node.select('circle').attr(\"cx\", function (d) {\n",
       "        return d.x;\n",
       "    }).attr(\"cy\", function (d) {\n",
       "        return d.y;\n",
       "    });\n",
       "    node.select('text').attr(\"dx\", function (d) {\n",
       "        return d.x;\n",
       "    }).attr(\"dy\", function (d) {\n",
       "        return d.y;\n",
       "    });\n",
       "});\n",
       "\n",
       "/* vim: set filetype=javascript : */\n",
       "</script>"
      ],
      "text/plain": [
       "<IPython.core.display.HTML object>"
      ]
     },
     "execution_count": 7,
     "metadata": {},
     "output_type": "execute_result"
    }
   ],
   "source": [
    "visualize(G)"
   ]
  },
  {
   "cell_type": "code",
   "execution_count": null,
   "metadata": {},
   "outputs": [],
   "source": []
  }
 ],
 "metadata": {
  "kernelspec": {
   "display_name": "Python 3",
   "language": "python",
   "name": "python3"
  },
  "language_info": {
   "codemirror_mode": {
    "name": "ipython",
    "version": 3
   },
   "file_extension": ".py",
   "mimetype": "text/x-python",
   "name": "python",
   "nbconvert_exporter": "python",
   "pygments_lexer": "ipython3",
   "version": "3.5.4"
  }
 },
 "nbformat": 4,
 "nbformat_minor": 2
}
