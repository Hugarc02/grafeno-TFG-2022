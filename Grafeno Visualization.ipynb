{
 "cells": [
  {
   "cell_type": "markdown",
   "metadata": {},
   "source": [
    "# Interactive visualization of grafeno Graphs"
   ]
  },
  {
   "cell_type": "markdown",
   "metadata": {},
   "source": [
    "We use the great D3 library: https://d3js.org/"
   ]
  },
  {
   "cell_type": "code",
   "execution_count": 1,
   "metadata": {},
   "outputs": [
    {
     "data": {
      "text/html": [
       "<script src=\"http://d3js.org/d3.v3.min.js\"></script>"
      ],
      "text/plain": [
       "<IPython.core.display.HTML object>"
      ]
     },
     "metadata": {},
     "output_type": "display_data"
    },
    {
     "data": {
      "application/javascript": [
       "'use strict';\n",
       "\n",
       "window.CreateGrafenoVisualization = function (output_counter, graph) {\n",
       "    function node_color(node) {\n",
       "        switch (node.sempos) {\n",
       "            case 'n':\n",
       "                return '#CF3C46';\n",
       "            case 'v':\n",
       "                return '#44B033';\n",
       "            case 'j':\n",
       "                return '#FBB136';\n",
       "            case 'r':\n",
       "                return '#476FA5';\n",
       "        }\n",
       "    }\n",
       "    function link_distance(link) {\n",
       "        switch (link.functor) {\n",
       "            case 'SEQ':\n",
       "                return 300;\n",
       "            case 'ATTR':\n",
       "                return 80;\n",
       "            default:\n",
       "                return 140;\n",
       "        }\n",
       "    }\n",
       "    function middle_point(s, t) {\n",
       "        var mx = (t.x + s.x) / 2;\n",
       "        var my = (t.y + s.y) / 2;\n",
       "        var dx = t.x - s.x;\n",
       "        var dy = t.y - s.y;\n",
       "        return { x: mx + dy / 3,\n",
       "            y: my - dx / 3\n",
       "        };\n",
       "    }\n",
       "    var zoom = d3.behavior.zoom().scaleExtent([.5, 5]).on('zoom', zoomed);\n",
       "    var force = d3.layout.force().charge(-200).gravity(0.05).linkDistance(link_distance);\n",
       "    var container = d3.select('#d3-container-' + output_counter).select(\"div\").call(zoom);\n",
       "    var svg = container.select(\"#graph-layer\");\n",
       "    function zoomed() {\n",
       "        force.stop();\n",
       "        var canvasTranslate = zoom.translate();\n",
       "        svg.attr('transform', 'translate(' + canvasTranslate[0] + ',' + canvasTranslate[1] + ')scale(' + zoom.scale() + ')');\n",
       "        force.resume();\n",
       "    }\n",
       "\n",
       "    force.nodes(graph.nodes).links(graph.links).start();\n",
       "    var link = svg.selectAll(\".link\").data(graph.links).enter().append(\"g\").attr(\"class\", \"link\");\n",
       "    link.append(\"path\");\n",
       "    link.append(\"text\").text(function (d) {\n",
       "        return d.functor;\n",
       "    });\n",
       "    var node = svg.selectAll(\".node\").data(graph.nodes).enter().append(\"g\").attr(\"class\", \"node\");\n",
       "    node.append(\"circle\").attr(\"r\", 30).style(\"fill\", node_color).call(force.drag).on('mousedown', function () {\n",
       "        return d3.event.stopPropagation();\n",
       "    });\n",
       "    node.append(\"text\").text(function (d) {\n",
       "        return d.concept;\n",
       "    }).attr(\"dx\", function (d) {\n",
       "        return d.x;\n",
       "    }).attr(\"dy\", function (d) {\n",
       "        return d.y;\n",
       "    });\n",
       "    node.append(\"title\").text(function (d) {\n",
       "        return d.concept;\n",
       "    });\n",
       "    force.on(\"tick\", function () {\n",
       "        link.select('path').attr(\"d\", function (d) {\n",
       "            var s = d.source,\n",
       "                t = d.target;\n",
       "            m = middle_point(s, t);\n",
       "            return 'M' + s.x + ',' + s.y + ' Q' + m.x + ',' + m.y + ' ' + t.x + ',' + t.y;\n",
       "        });\n",
       "        link.select('text').attr(\"dx\", function (d) {\n",
       "            return middle_point(d.source, d.target).x;\n",
       "        }).attr(\"dy\", function (d) {\n",
       "            return middle_point(d.source, d.target).y;\n",
       "        });\n",
       "        node.select('circle').attr(\"cx\", function (d) {\n",
       "            return d.x;\n",
       "        }).attr(\"cy\", function (d) {\n",
       "            return d.y;\n",
       "        });\n",
       "        node.select('text').attr(\"dx\", function (d) {\n",
       "            return d.x;\n",
       "        }).attr(\"dy\", function (d) {\n",
       "            return d.y;\n",
       "        });\n",
       "    });\n",
       "};\n",
       "\n",
       "/* vim: set filetype=javascript : */\n"
      ],
      "text/plain": [
       "<IPython.core.display.Javascript object>"
      ]
     },
     "metadata": {},
     "output_type": "display_data"
    }
   ],
   "source": [
    "from grafeno import Graph\n",
    "from grafeno.transformers import get_pipeline\n",
    "from grafeno.jupyter import visualize"
   ]
  },
  {
   "cell_type": "code",
   "execution_count": 2,
   "metadata": {},
   "outputs": [],
   "source": [
    "import yaml\n",
    "semantic_pipeline = yaml.load(open('configs/semantic.yaml'))\n",
    "T = get_pipeline(['spacy_parse']+semantic_pipeline.get('transformers'))"
   ]
  },
  {
   "cell_type": "markdown",
   "metadata": {},
   "source": [
    "### One sentence"
   ]
  },
  {
   "cell_type": "code",
   "execution_count": 3,
   "metadata": {},
   "outputs": [],
   "source": [
    "sentence = \"\"\"\n",
    "John writes a short program that works correctly and he comments his code like a good student.\n",
    "\"\"\""
   ]
  },
  {
   "cell_type": "code",
   "execution_count": 4,
   "metadata": {},
   "outputs": [],
   "source": [
    "G1 = Graph(text=sentence, transformer=T)"
   ]
  },
  {
   "cell_type": "code",
   "execution_count": 5,
   "metadata": {},
   "outputs": [
    {
     "data": {
      "text/html": [
       "<style>\n",
       "    #d3-container-2 {\n",
       "        display: block;\n",
       "        width: 100%;\n",
       "        padding-bottom: 75%;\n",
       "        border: 1px solid gray;\n",
       "        position: relative;\n",
       "    }\n",
       "    #d3-container-2 > div {\n",
       "        position: absolute;\n",
       "        display: block;\n",
       "        top: 0; right: 0; bottom: 0; left: 0;\n",
       "    }\n",
       "    #d3-container-2 svg {\n",
       "        width: 100%;\n",
       "        height: 100%;\n",
       "    }\n",
       "    .node circle {\n",
       "        stroke: #fff;\n",
       "        stroke-width: 2px;\n",
       "    }\n",
       "    .link path {\n",
       "        stroke: #333; stroke-width: 2px;\n",
       "        fill: none;\n",
       "        marker-end: url(#markerArrow);\n",
       "    }\n",
       "    .link text, .node text {\n",
       "        stroke: #fff;\n",
       "        paint-order: stroke;\n",
       "        stroke-width: 4px;\n",
       "        fill: #333;\n",
       "        text-anchor: middle;\n",
       "        dominant-baseline: middle;\n",
       "        font-weight: boldest;\n",
       "        pointer-events: none;\n",
       "    }\n",
       "    .marker {\n",
       "        fill: #333;\n",
       "    }\n",
       "</style>\n",
       "<div id=\"d3-container-2\">\n",
       "    <div>\n",
       "        <svg>\n",
       "            <defs>\n",
       "                <marker id=\"markerArrow\" markerWidth=\"6\" markerHeight=\"8\"\n",
       "                    orient=\"auto\" refX=\"21\" refY=\"3\">\n",
       "                    <path d=\"M0,3 L6,5 1,8\" />\n",
       "                </marker>\n",
       "            </defs>\n",
       "            <g id=\"graph-layer\"></g>\n",
       "        </svg>\n",
       "    </div>\n",
       "</div>\n",
       "<script>CreateGrafenoVisualization(2,JSON.parse('{\"links\": [{\"target\": 8, \"functor\": \"THEME\", \"source\": 2, \"weight\": 1.0}, {\"target\": 9, \"functor\": \"SEQ\", \"source\": 2}, {\"target\": 3, \"functor\": \"AGENT\", \"source\": 2, \"weight\": 1.0}, {\"target\": 1, \"functor\": \"ATTR\", \"source\": 5}, {\"target\": 8, \"functor\": \"AGENT\", \"source\": 7, \"weight\": 1.0}, {\"target\": 4, \"functor\": \"ATTR\", \"source\": 7}, {\"target\": 0, \"functor\": \"ATTR\", \"source\": 8}, {\"target\": 7, \"functor\": \"RESTR\", \"source\": 8}, {\"pval\": \"like\", \"target\": 5, \"functor\": \"COMP\", \"source\": 9, \"class\": \"like\"}, {\"target\": 6, \"functor\": \"THEME\", \"source\": 9, \"weight\": 1.0}], \"nodes\": [{\"id\": 0, \"concept\": \"short\", \"sempos\": \"j\"}, {\"id\": 1, \"concept\": \"good\", \"sempos\": \"j\"}, {\"id\": 2, \"sempos\": \"v\", \"tense\": null, \"concept\": \"write\", \"polarity\": \"+\"}, {\"id\": 3, \"sempos\": \"n\", \"concept\": \"john\", \"num\": \"p\", \"proper\": false}, {\"id\": 4, \"concept\": \"correctly\", \"sempos\": \"r\"}, {\"id\": 5, \"sempos\": \"n\", \"concept\": \"student\", \"num\": \"p\", \"proper\": false}, {\"id\": 6, \"sempos\": \"n\", \"concept\": \"code\", \"num\": \"p\", \"proper\": false}, {\"id\": 7, \"sempos\": \"v\", \"tense\": null, \"concept\": \"work\", \"polarity\": \"+\"}, {\"id\": 8, \"sempos\": \"n\", \"concept\": \"program\", \"num\": \"p\", \"proper\": false}, {\"id\": 9, \"sempos\": \"v\", \"tense\": null, \"concept\": \"comment\", \"polarity\": \"+\"}, {\"id\": 10, \"concept\": \"-PRON-\", \"sempos\": \"j\"}]}'))</script>"
      ],
      "text/plain": [
       "<IPython.core.display.HTML object>"
      ]
     },
     "execution_count": 5,
     "metadata": {},
     "output_type": "execute_result"
    }
   ],
   "source": [
    "visualize(G1)"
   ]
  },
  {
   "cell_type": "markdown",
   "metadata": {},
   "source": [
    "### Bigger graph (from the simple.wikipedia page of AI)"
   ]
  },
  {
   "cell_type": "code",
   "execution_count": 6,
   "metadata": {},
   "outputs": [],
   "source": [
    "text = \"\"\"\n",
    "An extreme goal of AI research is to create computer programs that can learn, solve problems, and think logically.\n",
    "In practice, however, most applications have picked on problems which computers can do well.\n",
    "Searching data bases and doing calculations are things computers do better than people.\n",
    "On the other hand, \"perceiving its environment\" in any real sense is way beyond present-day computing.\n",
    "\"\"\""
   ]
  },
  {
   "cell_type": "code",
   "execution_count": 7,
   "metadata": {},
   "outputs": [],
   "source": [
    "G2 = Graph(text=text, transformer=T)"
   ]
  },
  {
   "cell_type": "code",
   "execution_count": 8,
   "metadata": {
    "scrolled": false
   },
   "outputs": [
    {
     "data": {
      "text/html": [
       "<style>\n",
       "    #d3-container-3 {\n",
       "        display: block;\n",
       "        width: 100%;\n",
       "        padding-bottom: 75%;\n",
       "        border: 1px solid gray;\n",
       "        position: relative;\n",
       "    }\n",
       "    #d3-container-3 > div {\n",
       "        position: absolute;\n",
       "        display: block;\n",
       "        top: 0; right: 0; bottom: 0; left: 0;\n",
       "    }\n",
       "    #d3-container-3 svg {\n",
       "        width: 100%;\n",
       "        height: 100%;\n",
       "    }\n",
       "    .node circle {\n",
       "        stroke: #fff;\n",
       "        stroke-width: 2px;\n",
       "    }\n",
       "    .link path {\n",
       "        stroke: #333; stroke-width: 2px;\n",
       "        fill: none;\n",
       "        marker-end: url(#markerArrow);\n",
       "    }\n",
       "    .link text, .node text {\n",
       "        stroke: #fff;\n",
       "        paint-order: stroke;\n",
       "        stroke-width: 4px;\n",
       "        fill: #333;\n",
       "        text-anchor: middle;\n",
       "        dominant-baseline: middle;\n",
       "        font-weight: boldest;\n",
       "        pointer-events: none;\n",
       "    }\n",
       "    .marker {\n",
       "        fill: #333;\n",
       "    }\n",
       "</style>\n",
       "<div id=\"d3-container-3\">\n",
       "    <div>\n",
       "        <svg>\n",
       "            <defs>\n",
       "                <marker id=\"markerArrow\" markerWidth=\"6\" markerHeight=\"8\"\n",
       "                    orient=\"auto\" refX=\"21\" refY=\"3\">\n",
       "                    <path d=\"M0,3 L6,5 1,8\" />\n",
       "                </marker>\n",
       "            </defs>\n",
       "            <g id=\"graph-layer\"></g>\n",
       "        </svg>\n",
       "    </div>\n",
       "</div>\n",
       "<script>CreateGrafenoVisualization(3,JSON.parse('{\"links\": [{\"target\": 1, \"functor\": \"SEQ\", \"source\": 0}, {\"target\": 7, \"functor\": \"THEME\", \"source\": 0, \"weight\": 1.0}, {\"target\": 9, \"functor\": \"ATTR\", \"source\": 1}, {\"target\": 3, \"functor\": \"COP\", \"source\": 2}, {\"target\": 6, \"functor\": \"COP\", \"source\": 2, \"weight\": 1.0}, {\"target\": 12, \"functor\": \"THEME\", \"source\": 3, \"weight\": 1.0}, {\"target\": 11, \"functor\": \"ATTR\", \"source\": 4}, {\"pval\": \"of\", \"target\": 4, \"functor\": \"COMP\", \"source\": 6, \"class\": \"of\"}, {\"target\": 5, \"functor\": \"ATTR\", \"source\": 6}, {\"target\": 0, \"functor\": \"SEQ\", \"source\": 10}, {\"target\": 12, \"functor\": \"AGENT\", \"source\": 10, \"weight\": 1.0}, {\"target\": 0, \"functor\": \"RESTR\", \"source\": 12}, {\"target\": 10, \"functor\": \"RESTR\", \"source\": 12}, {\"target\": 13, \"functor\": \"ATTR\", \"source\": 12}, {\"target\": 20, \"functor\": \"RESTR\", \"source\": 14}, {\"target\": 16, \"functor\": \"ATTR\", \"source\": 20}, {\"target\": 22, \"functor\": \"AGENT\", \"source\": 20, \"weight\": 1.0}, {\"target\": 14, \"functor\": \"THEME\", \"source\": 20, \"weight\": 1.0}, {\"target\": 17, \"functor\": \"ATTR\", \"source\": 21}, {\"pval\": \"in\", \"target\": 18, \"functor\": \"COMP\", \"source\": 23, \"class\": \"in\"}, {\"target\": 21, \"functor\": \"AGENT\", \"source\": 23, \"weight\": 1.0}, {\"pval\": \"on\", \"target\": 14, \"functor\": \"COMP\", \"source\": 23, \"class\": \"on\"}, {\"target\": 15, \"functor\": \"ATTR\", \"source\": 23}, {\"target\": 29, \"functor\": \"RESTR\", \"source\": 24}, {\"target\": 34, \"functor\": \"ATTR\", \"source\": 25}, {\"pval\": \"than\", \"target\": 28, \"functor\": \"COMP\", \"source\": 26, \"class\": \"than\"}, {\"target\": 27, \"functor\": \"AGENT\", \"source\": 29, \"weight\": 1.0}, {\"target\": 24, \"functor\": \"COP\", \"source\": 30, \"weight\": 1.0}, {\"target\": 25, \"functor\": \"COP\", \"source\": 30, \"weight\": 1.0}, {\"target\": 31, \"functor\": \"COP\", \"source\": 30, \"weight\": 1.0}, {\"target\": 32, \"functor\": \"THEME\", \"source\": 31, \"weight\": 1.0}, {\"target\": 33, \"functor\": \"ATTR\", \"source\": 34}, {\"target\": 42, \"functor\": \"COP\", \"source\": 38, \"weight\": 1.0}, {\"pval\": \"beyond\", \"target\": 44, \"functor\": \"COP\", \"source\": 38, \"class\": \"beyond\"}, {\"pval\": \"on\", \"target\": 45, \"functor\": \"COP\", \"source\": 38, \"class\": \"on\"}, {\"pval\": \"in\", \"target\": 46, \"functor\": \"COMP\", \"source\": 42, \"class\": \"in\"}, {\"target\": 39, \"functor\": \"THEME\", \"source\": 42, \"weight\": 1.0}, {\"target\": 36, \"functor\": \"ATTR\", \"source\": 43}, {\"target\": 43, \"functor\": \"ATTR\", \"source\": 44}, {\"target\": 37, \"functor\": \"ATTR\", \"source\": 45}, {\"target\": 35, \"functor\": \"ATTR\", \"source\": 46}], \"nodes\": [{\"id\": 0, \"sempos\": \"v\", \"tense\": null, \"concept\": \"solve\", \"polarity\": \"+\"}, {\"id\": 1, \"sempos\": \"v\", \"tense\": null, \"concept\": \"think\", \"polarity\": \"+\"}, {\"id\": 2, \"sempos\": \"v\", \"tense\": null, \"concept\": \"be\", \"polarity\": \"+\"}, {\"id\": 3, \"sempos\": \"v\", \"tense\": null, \"concept\": \"create\", \"polarity\": \"+\"}, {\"id\": 4, \"sempos\": \"n\", \"concept\": \"research\", \"num\": \"p\", \"proper\": false}, {\"id\": 5, \"concept\": \"extreme\", \"sempos\": \"j\"}, {\"id\": 6, \"sempos\": \"n\", \"concept\": \"goal\", \"num\": \"p\", \"proper\": false}, {\"id\": 7, \"sempos\": \"n\", \"concept\": \"problem\", \"num\": \"p\", \"proper\": false}, {\"id\": 8, \"sempos\": \"v\", \"tense\": null, \"concept\": \"can\", \"polarity\": \"+\"}, {\"id\": 9, \"concept\": \"logically\", \"sempos\": \"r\"}, {\"id\": 10, \"sempos\": \"v\", \"tense\": null, \"concept\": \"learn\", \"polarity\": \"+\"}, {\"id\": 11, \"sempos\": \"n\", \"concept\": \"ai\", \"num\": \"p\", \"proper\": false}, {\"id\": 12, \"sempos\": \"n\", \"concept\": \"program\", \"num\": \"p\", \"proper\": false}, {\"id\": 13, \"sempos\": \"n\", \"concept\": \"computer\", \"num\": \"p\", \"proper\": false}, {\"id\": 14, \"sempos\": \"n\", \"concept\": \"problem\", \"num\": \"p\", \"proper\": false}, {\"id\": 15, \"concept\": \"however\", \"sempos\": \"r\"}, {\"id\": 16, \"concept\": \"well\", \"sempos\": \"r\"}, {\"id\": 17, \"concept\": \"most\", \"sempos\": \"j\"}, {\"id\": 18, \"sempos\": \"n\", \"concept\": \"practice\", \"num\": \"p\", \"proper\": false}, {\"id\": 19, \"sempos\": \"v\", \"tense\": null, \"concept\": \"can\", \"polarity\": \"+\"}, {\"id\": 20, \"sempos\": \"v\", \"tense\": null, \"concept\": \"do\", \"polarity\": \"+\"}, {\"id\": 21, \"sempos\": \"n\", \"concept\": \"application\", \"num\": \"p\", \"proper\": false}, {\"id\": 22, \"sempos\": \"n\", \"concept\": \"computer\", \"num\": \"p\", \"proper\": false}, {\"id\": 23, \"tense\": null, \"concept\": \"pick\", \"polarity\": \"+\", \"sempos\": \"v\", \"aspect\": \"perfect\"}, {\"id\": 24, \"sempos\": \"n\", \"concept\": \"thing\", \"num\": \"p\", \"proper\": false}, {\"id\": 25, \"proper\": false, \"concept\": \"searching\", \"num\": \"p\", \"sempos\": \"n\"}, {\"id\": 26, \"concept\": \"good\", \"sempos\": \"j\"}, {\"id\": 27, \"sempos\": \"n\", \"concept\": \"computer\", \"num\": \"p\", \"proper\": false}, {\"id\": 28, \"sempos\": \"n\", \"concept\": \"people\", \"num\": \"p\", \"proper\": false}, {\"id\": 29, \"sempos\": \"v\", \"tense\": null, \"concept\": \"do\", \"polarity\": \"+\"}, {\"id\": 30, \"sempos\": \"v\", \"tense\": null, \"concept\": \"be\", \"polarity\": \"+\"}, {\"id\": 31, \"sempos\": \"v\", \"tense\": null, \"concept\": \"do\", \"polarity\": \"+\"}, {\"id\": 32, \"sempos\": \"n\", \"concept\": \"calculation\", \"num\": \"p\", \"proper\": false}, {\"id\": 33, \"sempos\": \"n\", \"concept\": \"data\", \"num\": \"p\", \"proper\": false}, {\"id\": 34, \"sempos\": \"n\", \"concept\": \"base\", \"num\": \"p\", \"proper\": false}, {\"id\": 35, \"concept\": \"real\", \"sempos\": \"j\"}, {\"id\": 36, \"concept\": \"present\", \"sempos\": \"j\"}, {\"id\": 37, \"concept\": \"other\", \"sempos\": \"j\"}, {\"id\": 38, \"sempos\": \"v\", \"tense\": null, \"concept\": \"be\", \"polarity\": \"+\"}, {\"id\": 39, \"sempos\": \"n\", \"concept\": \"environment\", \"num\": \"p\", \"proper\": false}, {\"id\": 40, \"sempos\": \"n\", \"concept\": \"way\", \"num\": \"p\", \"proper\": false}, {\"id\": 41, \"concept\": \"-PRON-\", \"sempos\": \"j\"}, {\"id\": 42, \"sempos\": \"v\", \"tense\": null, \"concept\": \"perceive\", \"polarity\": \"+\"}, {\"id\": 43, \"sempos\": \"n\", \"concept\": \"day\", \"num\": \"p\", \"proper\": false}, {\"id\": 44, \"sempos\": \"n\", \"concept\": \"computing\", \"num\": \"p\", \"proper\": false}, {\"id\": 45, \"sempos\": \"n\", \"concept\": \"hand\", \"num\": \"p\", \"proper\": false}, {\"id\": 46, \"sempos\": \"n\", \"concept\": \"sense\", \"num\": \"p\", \"proper\": false}]}'))</script>"
      ],
      "text/plain": [
       "<IPython.core.display.HTML object>"
      ]
     },
     "execution_count": 8,
     "metadata": {},
     "output_type": "execute_result"
    }
   ],
   "source": [
    "visualize(G2)"
   ]
  }
 ],
 "metadata": {
  "kernelspec": {
   "display_name": "Python 3",
   "language": "python",
   "name": "python3"
  },
  "language_info": {
   "codemirror_mode": {
    "name": "ipython",
    "version": 3
   },
   "file_extension": ".py",
   "mimetype": "text/x-python",
   "name": "python",
   "nbconvert_exporter": "python",
   "pygments_lexer": "ipython3",
   "version": "3.5.4"
  }
 },
 "nbformat": 4,
 "nbformat_minor": 2
}
