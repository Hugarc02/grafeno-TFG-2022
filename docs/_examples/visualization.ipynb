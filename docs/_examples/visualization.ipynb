{
 "cells": [
  {
   "cell_type": "markdown",
   "metadata": {},
   "source": [
    "# Interactive visualization of grafeno Graphs"
   ]
  },
  {
   "cell_type": "markdown",
   "metadata": {},
   "source": [
    "We use the great D3 library: https://d3js.org/\n",
    "\n",
    "Since the visualizations are dynamic, the whole notebook must be run to be able to see them."
   ]
  },
  {
   "cell_type": "code",
   "execution_count": 10,
   "metadata": {},
   "outputs": [
    {
     "data": {
      "text/plain": [
       "'/home/antonio/miniconda3/envs/grafeno/lib/python3.5/site-packages/grafeno/__init__.py'"
      ]
     },
     "execution_count": 10,
     "metadata": {},
     "output_type": "execute_result"
    }
   ],
   "source": [
    "from grafeno import Graph\n",
    "from grafeno.transformers import get_pipeline\n",
    "from grafeno.jupyter import visualize"
   ]
  },
  {
   "cell_type": "code",
   "execution_count": 2,
   "metadata": {},
   "outputs": [
    {
     "data": {
      "text/plain": [
       "{'linearizers': ['node_edges'],\n",
       " 'transformers': ['pos_extract',\n",
       "  'pronouns',\n",
       "  'nouns',\n",
       "  'thematic',\n",
       "  'phrasal',\n",
       "  'genitive',\n",
       "  'prepositions',\n",
       "  'adjectives',\n",
       "  'adverbs',\n",
       "  'negation',\n",
       "  'copula',\n",
       "  'conjunction',\n",
       "  'relative',\n",
       "  'lenient']}"
      ]
     },
     "execution_count": 2,
     "metadata": {},
     "output_type": "execute_result"
    }
   ],
   "source": [
    "import yaml\n",
    "semantic_pipeline = yaml.load(open('../../configs/semantic.yaml'))\n",
    "T = get_pipeline(['spacy_parse']+semantic_pipeline.get('transformers'))"
   ]
  },
  {
   "cell_type": "markdown",
   "metadata": {},
   "source": [
    "### One sentence"
   ]
  },
  {
   "cell_type": "code",
   "execution_count": 3,
   "metadata": {},
   "outputs": [],
   "source": [
    "sentence = \"\"\"\n",
    "John writes a short program that works correctly and he comments his code like a good student.\n",
    "\"\"\""
   ]
  },
  {
   "cell_type": "code",
   "execution_count": 4,
   "metadata": {},
   "outputs": [],
   "source": [
    "G1 = Graph(text=sentence, transformer=T)"
   ]
  },
  {
   "cell_type": "code",
   "execution_count": 5,
   "metadata": {},
   "outputs": [
    {
     "data": {
      "text/html": [
       "<style>\n",
       "    #d3-container-2 {\n",
       "        display: block;\n",
       "        width: 100%;\n",
       "        padding-bottom: 75%;\n",
       "        border: 1px solid gray;\n",
       "        position: relative;\n",
       "    }\n",
       "    #d3-container-2 > div {\n",
       "        position: absolute;\n",
       "        display: block;\n",
       "        top: 0; right: 0; bottom: 0; left: 0;\n",
       "    }\n",
       "    #d3-container-2 svg {\n",
       "        width: 100%;\n",
       "        height: 100%;\n",
       "    }\n",
       "    .node circle {\n",
       "        stroke: #fff;\n",
       "        stroke-width: 2px;\n",
       "    }\n",
       "    .link path {\n",
       "        stroke: #333; stroke-width: 2px;\n",
       "        fill: none;\n",
       "        marker-end: url(#markerArrow);\n",
       "    }\n",
       "    .link text, .node text {\n",
       "        stroke: #fff;\n",
       "        paint-order: stroke;\n",
       "        stroke-width: 4px;\n",
       "        fill: #333;\n",
       "        text-anchor: middle;\n",
       "        dominant-baseline: middle;\n",
       "        font-weight: boldest;\n",
       "        pointer-events: none;\n",
       "    }\n",
       "    .marker {\n",
       "        fill: #333;\n",
       "    }\n",
       "</style>\n",
       "<div id=\"d3-container-2\">\n",
       "    <div>\n",
       "        <svg>\n",
       "            <defs>\n",
       "                <marker id=\"markerArrow\" markerWidth=\"6\" markerHeight=\"8\"\n",
       "                    orient=\"auto\" refX=\"21\" refY=\"3\">\n",
       "                    <path d=\"M0,3 L6,5 1,8\" />\n",
       "                </marker>\n",
       "            </defs>\n",
       "            <g id=\"graph-layer\"></g>\n",
       "        </svg>\n",
       "    </div>\n",
       "</div>\n",
       "<script>CreateGrafenoVisualization(2,JSON.parse('{\"links\": [{\"class\": \"like\", \"pval\": \"like\", \"functor\": \"COMP\", \"source\": 1, \"target\": 9}, {\"functor\": \"THEME\", \"weight\": 1.0, \"source\": 1, \"target\": 3}, {\"functor\": \"AGENT\", \"weight\": 1.0, \"source\": 2, \"target\": 0}, {\"functor\": \"SEQ\", \"source\": 2, \"target\": 1}, {\"functor\": \"THEME\", \"weight\": 1.0, \"source\": 2, \"target\": 6}, {\"functor\": \"ATTR\", \"source\": 6, \"target\": 8}, {\"functor\": \"RESTR\", \"source\": 6, \"target\": 10}, {\"functor\": \"ATTR\", \"source\": 9, \"target\": 4}, {\"functor\": \"ATTR\", \"source\": 10, \"target\": 5}, {\"functor\": \"AGENT\", \"weight\": 1.0, \"source\": 10, \"target\": 6}], \"nodes\": [{\"sempos\": \"n\", \"num\": \"p\", \"proper\": false, \"concept\": \"john\", \"id\": 0}, {\"sempos\": \"v\", \"id\": 1, \"concept\": \"comment\", \"tense\": null, \"polarity\": \"+\"}, {\"polarity\": \"+\", \"id\": 2, \"concept\": \"write\", \"tense\": null, \"sempos\": \"v\"}, {\"sempos\": \"n\", \"num\": \"p\", \"proper\": false, \"concept\": \"code\", \"id\": 3}, {\"sempos\": \"j\", \"concept\": \"good\", \"id\": 4}, {\"sempos\": \"r\", \"concept\": \"correctly\", \"id\": 5}, {\"sempos\": \"n\", \"num\": \"p\", \"proper\": false, \"concept\": \"program\", \"id\": 6}, {\"sempos\": \"j\", \"concept\": \"-PRON-\", \"id\": 7}, {\"sempos\": \"j\", \"concept\": \"short\", \"id\": 8}, {\"sempos\": \"n\", \"num\": \"p\", \"proper\": false, \"concept\": \"student\", \"id\": 9}, {\"sempos\": \"v\", \"id\": 10, \"concept\": \"work\", \"tense\": null, \"polarity\": \"+\"}]}'))</script>"
      ],
      "text/plain": [
       "<IPython.core.display.HTML object>"
      ]
     },
     "execution_count": 5,
     "metadata": {},
     "output_type": "execute_result"
    }
   ],
   "source": [
    "visualize(G1)"
   ]
  },
  {
   "cell_type": "markdown",
   "metadata": {},
   "source": [
    "### Bigger graph (from the simple.wikipedia page of AI)"
   ]
  },
  {
   "cell_type": "code",
   "execution_count": 6,
   "metadata": {},
   "outputs": [],
   "source": [
    "text = \"\"\"\n",
    "An extreme goal of AI research is to create computer programs that can learn, solve problems, and think logically.\n",
    "In practice, however, most applications have picked on problems which computers can do well.\n",
    "Searching data bases and doing calculations are things computers do better than people.\n",
    "On the other hand, \"perceiving its environment\" in any real sense is way beyond present-day computing.\n",
    "\"\"\""
   ]
  },
  {
   "cell_type": "code",
   "execution_count": 7,
   "metadata": {},
   "outputs": [],
   "source": [
    "G2 = Graph(text=text, transformer=T)"
   ]
  },
  {
   "cell_type": "code",
   "execution_count": 8,
   "metadata": {
    "scrolled": false
   },
   "outputs": [
    {
     "data": {
      "text/html": [
       "<style>\n",
       "    #d3-container-3 {\n",
       "        display: block;\n",
       "        width: 100%;\n",
       "        padding-bottom: 75%;\n",
       "        border: 1px solid gray;\n",
       "        position: relative;\n",
       "    }\n",
       "    #d3-container-3 > div {\n",
       "        position: absolute;\n",
       "        display: block;\n",
       "        top: 0; right: 0; bottom: 0; left: 0;\n",
       "    }\n",
       "    #d3-container-3 svg {\n",
       "        width: 100%;\n",
       "        height: 100%;\n",
       "    }\n",
       "    .node circle {\n",
       "        stroke: #fff;\n",
       "        stroke-width: 2px;\n",
       "    }\n",
       "    .link path {\n",
       "        stroke: #333; stroke-width: 2px;\n",
       "        fill: none;\n",
       "        marker-end: url(#markerArrow);\n",
       "    }\n",
       "    .link text, .node text {\n",
       "        stroke: #fff;\n",
       "        paint-order: stroke;\n",
       "        stroke-width: 4px;\n",
       "        fill: #333;\n",
       "        text-anchor: middle;\n",
       "        dominant-baseline: middle;\n",
       "        font-weight: boldest;\n",
       "        pointer-events: none;\n",
       "    }\n",
       "    .marker {\n",
       "        fill: #333;\n",
       "    }\n",
       "</style>\n",
       "<div id=\"d3-container-3\">\n",
       "    <div>\n",
       "        <svg>\n",
       "            <defs>\n",
       "                <marker id=\"markerArrow\" markerWidth=\"6\" markerHeight=\"8\"\n",
       "                    orient=\"auto\" refX=\"21\" refY=\"3\">\n",
       "                    <path d=\"M0,3 L6,5 1,8\" />\n",
       "                </marker>\n",
       "            </defs>\n",
       "            <g id=\"graph-layer\"></g>\n",
       "        </svg>\n",
       "    </div>\n",
       "</div>\n",
       "<script>CreateGrafenoVisualization(3,JSON.parse('{\"links\": [{\"functor\": \"SEQ\", \"source\": 0, \"target\": 9}, {\"functor\": \"SEQ\", \"source\": 0, \"target\": 4}, {\"functor\": \"AGENT\", \"weight\": 1.0, \"source\": 0, \"target\": 6}, {\"functor\": \"ATTR\", \"source\": 1, \"target\": 2}, {\"functor\": \"ATTR\", \"source\": 4, \"target\": 5}, {\"functor\": \"RESTR\", \"source\": 6, \"target\": 0}, {\"functor\": \"RESTR\", \"source\": 6, \"target\": 9}, {\"functor\": \"ATTR\", \"source\": 6, \"target\": 3}, {\"functor\": \"RESTR\", \"source\": 6, \"target\": 4}, {\"functor\": \"SEQ\", \"source\": 9, \"target\": 4}, {\"functor\": \"THEME\", \"weight\": 1.0, \"source\": 9, \"target\": 13}, {\"functor\": \"THEME\", \"weight\": 1.0, \"source\": 10, \"target\": 6}, {\"functor\": \"COP\", \"source\": 11, \"target\": 10}, {\"functor\": \"COP\", \"weight\": 1.0, \"source\": 11, \"target\": 12}, {\"class\": \"of\", \"pval\": \"of\", \"functor\": \"COMP\", \"source\": 12, \"target\": 1}, {\"functor\": \"ATTR\", \"source\": 12, \"target\": 7}, {\"functor\": \"ATTR\", \"source\": 14, \"target\": 20}, {\"functor\": \"THEME\", \"weight\": 1.0, \"source\": 14, \"target\": 22}, {\"functor\": \"AGENT\", \"weight\": 1.0, \"source\": 14, \"target\": 23}, {\"functor\": \"ATTR\", \"source\": 17, \"target\": 19}, {\"functor\": \"ATTR\", \"source\": 21, \"target\": 16}, {\"functor\": \"AGENT\", \"weight\": 1.0, \"source\": 21, \"target\": 17}, {\"class\": \"in\", \"pval\": \"in\", \"functor\": \"COMP\", \"source\": 21, \"target\": 18}, {\"class\": \"on\", \"pval\": \"on\", \"functor\": \"COMP\", \"source\": 21, \"target\": 22}, {\"functor\": \"RESTR\", \"source\": 22, \"target\": 14}, {\"functor\": \"ATTR\", \"source\": 25, \"target\": 29}, {\"functor\": \"AGENT\", \"weight\": 1.0, \"source\": 26, \"target\": 30}, {\"class\": \"than\", \"pval\": \"than\", \"functor\": \"COMP\", \"source\": 27, \"target\": 32}, {\"functor\": \"COP\", \"weight\": 1.0, \"source\": 28, \"target\": 33}, {\"functor\": \"COP\", \"weight\": 1.0, \"source\": 28, \"target\": 34}, {\"functor\": \"COP\", \"weight\": 1.0, \"source\": 28, \"target\": 31}, {\"functor\": \"RESTR\", \"source\": 31, \"target\": 26}, {\"functor\": \"ATTR\", \"source\": 33, \"target\": 25}, {\"functor\": \"THEME\", \"weight\": 1.0, \"source\": 34, \"target\": 24}, {\"class\": \"in\", \"pval\": \"in\", \"functor\": \"COMP\", \"source\": 36, \"target\": 41}, {\"functor\": \"THEME\", \"weight\": 1.0, \"source\": 36, \"target\": 35}, {\"functor\": \"ATTR\", \"source\": 40, \"target\": 43}, {\"functor\": \"ATTR\", \"source\": 41, \"target\": 39}, {\"functor\": \"ATTR\", \"source\": 42, \"target\": 46}, {\"class\": \"on\", \"pval\": \"on\", \"functor\": \"COP\", \"source\": 44, \"target\": 40}, {\"class\": \"beyond\", \"pval\": \"beyond\", \"functor\": \"COP\", \"source\": 44, \"target\": 42}, {\"functor\": \"COP\", \"weight\": 1.0, \"source\": 44, \"target\": 36}, {\"functor\": \"ATTR\", \"source\": 46, \"target\": 38}], \"nodes\": [{\"polarity\": \"+\", \"id\": 0, \"concept\": \"learn\", \"tense\": null, \"sempos\": \"v\"}, {\"sempos\": \"n\", \"num\": \"p\", \"proper\": false, \"concept\": \"research\", \"id\": 1}, {\"sempos\": \"n\", \"num\": \"p\", \"proper\": false, \"concept\": \"ai\", \"id\": 2}, {\"sempos\": \"n\", \"num\": \"p\", \"proper\": false, \"concept\": \"computer\", \"id\": 3}, {\"sempos\": \"v\", \"id\": 4, \"concept\": \"think\", \"tense\": null, \"polarity\": \"+\"}, {\"sempos\": \"r\", \"concept\": \"logically\", \"id\": 5}, {\"sempos\": \"n\", \"num\": \"p\", \"proper\": false, \"concept\": \"program\", \"id\": 6}, {\"sempos\": \"j\", \"concept\": \"extreme\", \"id\": 7}, {\"sempos\": \"v\", \"id\": 8, \"concept\": \"can\", \"tense\": null, \"polarity\": \"+\"}, {\"polarity\": \"+\", \"id\": 9, \"concept\": \"solve\", \"tense\": null, \"sempos\": \"v\"}, {\"sempos\": \"v\", \"id\": 10, \"concept\": \"create\", \"tense\": null, \"polarity\": \"+\"}, {\"sempos\": \"v\", \"id\": 11, \"concept\": \"be\", \"tense\": null, \"polarity\": \"+\"}, {\"sempos\": \"n\", \"num\": \"p\", \"proper\": false, \"concept\": \"goal\", \"id\": 12}, {\"sempos\": \"n\", \"num\": \"p\", \"proper\": false, \"concept\": \"problem\", \"id\": 13}, {\"sempos\": \"v\", \"id\": 14, \"concept\": \"do\", \"tense\": null, \"polarity\": \"+\"}, {\"sempos\": \"v\", \"id\": 15, \"concept\": \"can\", \"tense\": null, \"polarity\": \"+\"}, {\"sempos\": \"r\", \"concept\": \"however\", \"id\": 16}, {\"sempos\": \"n\", \"num\": \"p\", \"proper\": false, \"concept\": \"application\", \"id\": 17}, {\"sempos\": \"n\", \"num\": \"p\", \"proper\": false, \"concept\": \"practice\", \"id\": 18}, {\"sempos\": \"j\", \"concept\": \"most\", \"id\": 19}, {\"sempos\": \"r\", \"concept\": \"well\", \"id\": 20}, {\"polarity\": \"+\", \"concept\": \"pick\", \"id\": 21, \"sempos\": \"v\", \"aspect\": \"perfect\", \"tense\": null}, {\"sempos\": \"n\", \"num\": \"p\", \"proper\": false, \"concept\": \"problem\", \"id\": 22}, {\"sempos\": \"n\", \"num\": \"p\", \"proper\": false, \"concept\": \"computer\", \"id\": 23}, {\"sempos\": \"n\", \"num\": \"p\", \"proper\": false, \"concept\": \"calculation\", \"id\": 24}, {\"sempos\": \"n\", \"num\": \"p\", \"proper\": false, \"concept\": \"base\", \"id\": 25}, {\"sempos\": \"v\", \"id\": 26, \"concept\": \"do\", \"tense\": null, \"polarity\": \"+\"}, {\"sempos\": \"j\", \"concept\": \"good\", \"id\": 27}, {\"sempos\": \"v\", \"id\": 28, \"concept\": \"be\", \"tense\": null, \"polarity\": \"+\"}, {\"sempos\": \"n\", \"num\": \"p\", \"proper\": false, \"concept\": \"data\", \"id\": 29}, {\"sempos\": \"n\", \"num\": \"p\", \"proper\": false, \"concept\": \"computer\", \"id\": 30}, {\"sempos\": \"n\", \"num\": \"p\", \"proper\": false, \"concept\": \"thing\", \"id\": 31}, {\"sempos\": \"n\", \"num\": \"p\", \"proper\": false, \"concept\": \"people\", \"id\": 32}, {\"sempos\": \"n\", \"num\": \"p\", \"proper\": false, \"concept\": \"searching\", \"id\": 33}, {\"sempos\": \"v\", \"id\": 34, \"concept\": \"do\", \"tense\": null, \"polarity\": \"+\"}, {\"sempos\": \"n\", \"num\": \"p\", \"proper\": false, \"concept\": \"environment\", \"id\": 35}, {\"sempos\": \"v\", \"id\": 36, \"concept\": \"perceive\", \"tense\": null, \"polarity\": \"+\"}, {\"sempos\": \"j\", \"concept\": \"-PRON-\", \"id\": 37}, {\"sempos\": \"j\", \"concept\": \"present\", \"id\": 38}, {\"sempos\": \"j\", \"concept\": \"real\", \"id\": 39}, {\"sempos\": \"n\", \"num\": \"p\", \"proper\": false, \"concept\": \"hand\", \"id\": 40}, {\"sempos\": \"n\", \"num\": \"p\", \"proper\": false, \"concept\": \"sense\", \"id\": 41}, {\"sempos\": \"n\", \"num\": \"p\", \"proper\": false, \"concept\": \"computing\", \"id\": 42}, {\"sempos\": \"j\", \"concept\": \"other\", \"id\": 43}, {\"sempos\": \"v\", \"id\": 44, \"concept\": \"be\", \"tense\": null, \"polarity\": \"+\"}, {\"sempos\": \"n\", \"num\": \"p\", \"proper\": false, \"concept\": \"way\", \"id\": 45}, {\"sempos\": \"n\", \"num\": \"p\", \"proper\": false, \"concept\": \"day\", \"id\": 46}]}'))</script>"
      ],
      "text/plain": [
       "<IPython.core.display.HTML object>"
      ]
     },
     "execution_count": 8,
     "metadata": {},
     "output_type": "execute_result"
    }
   ],
   "source": [
    "visualize(G2)"
   ]
  }
 ],
 "metadata": {
  "kernelspec": {
   "display_name": "Python 3",
   "language": "python",
   "name": "python3"
  },
  "language_info": {
   "codemirror_mode": {
    "name": "ipython",
    "version": 3
   },
   "file_extension": ".py",
   "mimetype": "text/x-python",
   "name": "python",
   "nbconvert_exporter": "python",
   "pygments_lexer": "ipython3",
   "version": "3.5.4"
  }
 },
 "nbformat": 4,
 "nbformat_minor": 2
}
