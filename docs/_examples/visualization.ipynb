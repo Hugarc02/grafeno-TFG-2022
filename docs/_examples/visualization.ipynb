{
 "cells": [
  {
   "cell_type": "markdown",
   "metadata": {},
   "source": [
    "# Interactive visualization of grafeno Graphs"
   ]
  },
  {
   "cell_type": "markdown",
   "metadata": {},
   "source": [
    "We use the great D3 library: https://d3js.org/\n",
    "\n",
    "Since the visualizations are dynamic, the whole notebook must be run to be able to see them."
   ]
  },
  {
   "cell_type": "code",
   "execution_count": 1,
   "metadata": {},
   "outputs": [
    {
     "data": {
      "application/javascript": [
       "'use strict';\n",
       "\n",
       "var m; // workaround for a weird minimizer problem\n",
       "\n",
       "require.config({\n",
       "    paths: {\n",
       "        d3: '//cdnjs.cloudflare.com/ajax/libs/d3/3.4.8/d3.min'\n",
       "        // http://d3js.org/d3.v3.min.js\n",
       "    }\n",
       "});\n",
       "\n",
       "window.CreateGrafenoVisualization = function (output_counter, graph) {\n",
       "\n",
       "    require(['d3'], function (d3) {\n",
       "        function node_color(node) {\n",
       "            switch (node.sempos) {\n",
       "                case 'n':\n",
       "                    return '#CF3C46';\n",
       "                case 'v':\n",
       "                    return '#44B033';\n",
       "                case 'j':\n",
       "                    return '#FBB136';\n",
       "                case 'r':\n",
       "                    return '#476FA5';\n",
       "            }\n",
       "        }\n",
       "        function link_distance(link) {\n",
       "            switch (link.functor) {\n",
       "                case 'SEQ':\n",
       "                    return 300;\n",
       "                case 'ATTR':\n",
       "                    return 80;\n",
       "                default:\n",
       "                    return 140;\n",
       "            }\n",
       "        }\n",
       "        function middle_point(s, t) {\n",
       "            var mx = (t.x + s.x) / 2;\n",
       "            var my = (t.y + s.y) / 2;\n",
       "            var dx = t.x - s.x;\n",
       "            var dy = t.y - s.y;\n",
       "            return { x: mx + dy / 3,\n",
       "                y: my - dx / 3\n",
       "            };\n",
       "        }\n",
       "        var zoom = d3.behavior.zoom().scaleExtent([.5, 5]).on('zoom', zoomed);\n",
       "        var force = d3.layout.force().charge(-200).gravity(0.05).linkDistance(link_distance);\n",
       "        var container = d3.select('#d3-container-' + output_counter).select(\"div\").call(zoom);\n",
       "        var svg = container.select(\"#graph-layer\");\n",
       "        function zoomed() {\n",
       "            force.stop();\n",
       "            var canvasTranslate = zoom.translate();\n",
       "            svg.attr('transform', 'translate(' + canvasTranslate[0] + ',' + canvasTranslate[1] + ')scale(' + zoom.scale() + ')');\n",
       "            force.resume();\n",
       "        }\n",
       "\n",
       "        force.nodes(graph.nodes).links(graph.links).start();\n",
       "        var link = svg.selectAll(\".link\").data(graph.links).enter().append(\"g\").attr(\"class\", \"link\");\n",
       "        link.append(\"path\");\n",
       "        link.append(\"text\").text(function (d) {\n",
       "            return d.functor;\n",
       "        });\n",
       "        var node = svg.selectAll(\".node\").data(graph.nodes).enter().append(\"g\").attr(\"class\", \"node\");\n",
       "        node.append(\"circle\").attr(\"r\", 30).style(\"fill\", node_color).call(force.drag).on('mousedown', function () {\n",
       "            return d3.event.stopPropagation();\n",
       "        });\n",
       "        node.append(\"text\").text(function (d) {\n",
       "            return d.concept;\n",
       "        }).attr(\"dx\", function (d) {\n",
       "            return d.x;\n",
       "        }).attr(\"dy\", function (d) {\n",
       "            return d.y;\n",
       "        });\n",
       "        node.append(\"title\").text(function (d) {\n",
       "            return d.concept;\n",
       "        });\n",
       "        force.on(\"tick\", function () {\n",
       "            link.select('path').attr(\"d\", function (d) {\n",
       "                var s = d.source,\n",
       "                    t = d.target;\n",
       "                m = middle_point(s, t);\n",
       "                return 'M' + s.x + ',' + s.y + ' Q' + m.x + ',' + m.y + ' ' + t.x + ',' + t.y;\n",
       "            });\n",
       "            link.select('text').attr(\"dx\", function (d) {\n",
       "                return middle_point(d.source, d.target).x;\n",
       "            }).attr(\"dy\", function (d) {\n",
       "                return middle_point(d.source, d.target).y;\n",
       "            });\n",
       "            node.select('circle').attr(\"cx\", function (d) {\n",
       "                return d.x;\n",
       "            }).attr(\"cy\", function (d) {\n",
       "                return d.y;\n",
       "            });\n",
       "            node.select('text').attr(\"dx\", function (d) {\n",
       "                return d.x;\n",
       "            }).attr(\"dy\", function (d) {\n",
       "                return d.y;\n",
       "            });\n",
       "        });\n",
       "    });\n",
       "};\n",
       "\n",
       "/* vim: set filetype=javascript : */\n"
      ],
      "text/plain": [
       "<IPython.core.display.Javascript object>"
      ]
     },
     "metadata": {},
     "output_type": "display_data"
    }
   ],
   "source": [
    "from grafeno import Graph\n",
    "from grafeno.transformers import get_pipeline\n",
    "from grafeno.jupyter import visualize"
   ]
  },
  {
   "cell_type": "code",
   "execution_count": 2,
   "metadata": {},
   "outputs": [],
   "source": [
    "import yaml\n",
    "semantic_pipeline = yaml.load(open('../../configs/semantic.yaml'))\n",
    "T = get_pipeline(['spacy_parse']+semantic_pipeline.get('transformers'))"
   ]
  },
  {
   "cell_type": "markdown",
   "metadata": {},
   "source": [
    "### One sentence"
   ]
  },
  {
   "cell_type": "code",
   "execution_count": 3,
   "metadata": {},
   "outputs": [],
   "source": [
    "sentence = \"\"\"\n",
    "John writes a short program that works correctly and he comments his code like a good student.\n",
    "\"\"\""
   ]
  },
  {
   "cell_type": "code",
   "execution_count": 4,
   "metadata": {},
   "outputs": [],
   "source": [
    "G1 = Graph(text=sentence, transformer=T)"
   ]
  },
  {
   "cell_type": "code",
   "execution_count": 5,
   "metadata": {},
   "outputs": [
    {
     "data": {
      "text/html": [
       "<style>\n",
       "    #d3-container-2 {\n",
       "        display: block;\n",
       "        width: 100%;\n",
       "        padding-bottom: 75%;\n",
       "        border: 1px solid gray;\n",
       "        position: relative;\n",
       "    }\n",
       "    #d3-container-2 > div {\n",
       "        position: absolute;\n",
       "        display: block;\n",
       "        top: 0; right: 0; bottom: 0; left: 0;\n",
       "    }\n",
       "    #d3-container-2 svg {\n",
       "        width: 100%;\n",
       "        height: 100%;\n",
       "    }\n",
       "    .node circle {\n",
       "        stroke: #fff;\n",
       "        stroke-width: 2px;\n",
       "    }\n",
       "    .link path {\n",
       "        stroke: #333; stroke-width: 2px;\n",
       "        fill: none;\n",
       "        marker-end: url(#markerArrow);\n",
       "    }\n",
       "    .link text, .node text {\n",
       "        stroke: #fff;\n",
       "        paint-order: stroke;\n",
       "        stroke-width: 4px;\n",
       "        fill: #333;\n",
       "        text-anchor: middle;\n",
       "        dominant-baseline: middle;\n",
       "        font-weight: boldest;\n",
       "        pointer-events: none;\n",
       "    }\n",
       "    .marker {\n",
       "        fill: #333;\n",
       "    }\n",
       "</style>\n",
       "<div id=\"d3-container-2\">\n",
       "    <div>\n",
       "        <svg>\n",
       "            <defs>\n",
       "                <marker id=\"markerArrow\" markerWidth=\"6\" markerHeight=\"8\"\n",
       "                    orient=\"auto\" refX=\"21\" refY=\"3\">\n",
       "                    <path d=\"M0,3 L6,5 1,8\" />\n",
       "                </marker>\n",
       "            </defs>\n",
       "            <g id=\"graph-layer\"></g>\n",
       "        </svg>\n",
       "    </div>\n",
       "</div>\n",
       "<script>CreateGrafenoVisualization(2,JSON.parse('{\"links\": [{\"functor\": \"ATTR\", \"source\": 0, \"target\": 8}, {\"weight\": 1.0, \"source\": 0, \"target\": 9, \"functor\": \"AGENT\"}, {\"weight\": 1.0, \"source\": 3, \"target\": 10, \"functor\": \"THEME\"}, {\"class\": \"like\", \"functor\": \"COMP\", \"source\": 3, \"target\": 4, \"pval\": \"like\"}, {\"functor\": \"ATTR\", \"source\": 4, \"target\": 2}, {\"weight\": 1.0, \"source\": 5, \"target\": 9, \"functor\": \"THEME\"}, {\"functor\": \"SEQ\", \"source\": 5, \"target\": 3}, {\"weight\": 1.0, \"source\": 5, \"target\": 7, \"functor\": \"AGENT\"}, {\"functor\": \"RESTR\", \"source\": 9, \"target\": 0}, {\"functor\": \"ATTR\", \"source\": 9, \"target\": 6}], \"nodes\": [{\"concept\": \"work\", \"tense\": null, \"id\": 0, \"polarity\": \"+\", \"sempos\": \"v\"}, {\"concept\": \"-PRON-\", \"id\": 1, \"sempos\": \"j\"}, {\"concept\": \"good\", \"id\": 2, \"sempos\": \"j\"}, {\"concept\": \"comment\", \"tense\": null, \"id\": 3, \"polarity\": \"+\", \"sempos\": \"v\"}, {\"concept\": \"student\", \"proper\": false, \"num\": \"p\", \"id\": 4, \"sempos\": \"n\"}, {\"concept\": \"write\", \"tense\": null, \"id\": 5, \"polarity\": \"+\", \"sempos\": \"v\"}, {\"concept\": \"short\", \"id\": 6, \"sempos\": \"j\"}, {\"concept\": \"john\", \"proper\": false, \"num\": \"p\", \"id\": 7, \"sempos\": \"n\"}, {\"concept\": \"correctly\", \"id\": 8, \"sempos\": \"r\"}, {\"concept\": \"program\", \"proper\": false, \"num\": \"p\", \"id\": 9, \"sempos\": \"n\"}, {\"concept\": \"code\", \"proper\": false, \"num\": \"p\", \"id\": 10, \"sempos\": \"n\"}]}'))</script>"
      ],
      "text/plain": [
       "<IPython.core.display.HTML object>"
      ]
     },
     "execution_count": 5,
     "metadata": {},
     "output_type": "execute_result"
    }
   ],
   "source": [
    "visualize(G1)"
   ]
  },
  {
   "cell_type": "markdown",
   "metadata": {},
   "source": [
    "### Bigger graph (from the simple.wikipedia page of AI)"
   ]
  },
  {
   "cell_type": "code",
   "execution_count": 6,
   "metadata": {},
   "outputs": [],
   "source": [
    "text = \"\"\"\n",
    "An extreme goal of AI research is to create computer programs that can learn, solve problems, and think logically.\n",
    "In practice, however, most applications have picked on problems which computers can do well.\n",
    "Searching data bases and doing calculations are things computers do better than people.\n",
    "On the other hand, \"perceiving its environment\" in any real sense is way beyond present-day computing.\n",
    "\"\"\""
   ]
  },
  {
   "cell_type": "code",
   "execution_count": 7,
   "metadata": {},
   "outputs": [],
   "source": [
    "G2 = Graph(text=text, transformer=T)"
   ]
  },
  {
   "cell_type": "code",
   "execution_count": 8,
   "metadata": {
    "scrolled": false
   },
   "outputs": [
    {
     "data": {
      "text/html": [
       "<style>\n",
       "    #d3-container-3 {\n",
       "        display: block;\n",
       "        width: 100%;\n",
       "        padding-bottom: 75%;\n",
       "        border: 1px solid gray;\n",
       "        position: relative;\n",
       "    }\n",
       "    #d3-container-3 > div {\n",
       "        position: absolute;\n",
       "        display: block;\n",
       "        top: 0; right: 0; bottom: 0; left: 0;\n",
       "    }\n",
       "    #d3-container-3 svg {\n",
       "        width: 100%;\n",
       "        height: 100%;\n",
       "    }\n",
       "    .node circle {\n",
       "        stroke: #fff;\n",
       "        stroke-width: 2px;\n",
       "    }\n",
       "    .link path {\n",
       "        stroke: #333; stroke-width: 2px;\n",
       "        fill: none;\n",
       "        marker-end: url(#markerArrow);\n",
       "    }\n",
       "    .link text, .node text {\n",
       "        stroke: #fff;\n",
       "        paint-order: stroke;\n",
       "        stroke-width: 4px;\n",
       "        fill: #333;\n",
       "        text-anchor: middle;\n",
       "        dominant-baseline: middle;\n",
       "        font-weight: boldest;\n",
       "        pointer-events: none;\n",
       "    }\n",
       "    .marker {\n",
       "        fill: #333;\n",
       "    }\n",
       "</style>\n",
       "<div id=\"d3-container-3\">\n",
       "    <div>\n",
       "        <svg>\n",
       "            <defs>\n",
       "                <marker id=\"markerArrow\" markerWidth=\"6\" markerHeight=\"8\"\n",
       "                    orient=\"auto\" refX=\"21\" refY=\"3\">\n",
       "                    <path d=\"M0,3 L6,5 1,8\" />\n",
       "                </marker>\n",
       "            </defs>\n",
       "            <g id=\"graph-layer\"></g>\n",
       "        </svg>\n",
       "    </div>\n",
       "</div>\n",
       "<script>CreateGrafenoVisualization(3,JSON.parse('{\"links\": [{\"weight\": 1.0, \"source\": 0, \"target\": 2, \"functor\": \"COP\"}, {\"functor\": \"COP\", \"source\": 0, \"target\": 10}, {\"functor\": \"SEQ\", \"source\": 1, \"target\": 4}, {\"weight\": 1.0, \"source\": 1, \"target\": 12, \"functor\": \"THEME\"}, {\"functor\": \"ATTR\", \"source\": 2, \"target\": 8}, {\"class\": \"of\", \"functor\": \"COMP\", \"source\": 2, \"target\": 11, \"pval\": \"of\"}, {\"functor\": \"ATTR\", \"source\": 4, \"target\": 9}, {\"functor\": \"SEQ\", \"source\": 7, \"target\": 1}, {\"weight\": 1.0, \"source\": 7, \"target\": 13, \"functor\": \"AGENT\"}, {\"weight\": 1.0, \"source\": 10, \"target\": 13, \"functor\": \"THEME\"}, {\"functor\": \"ATTR\", \"source\": 11, \"target\": 6}, {\"functor\": \"RESTR\", \"source\": 13, \"target\": 1}, {\"functor\": \"ATTR\", \"source\": 13, \"target\": 5}, {\"functor\": \"RESTR\", \"source\": 13, \"target\": 7}, {\"functor\": \"ATTR\", \"source\": 18, \"target\": 15}, {\"weight\": 1.0, \"source\": 20, \"target\": 16, \"functor\": \"AGENT\"}, {\"functor\": \"ATTR\", \"source\": 20, \"target\": 17}, {\"weight\": 1.0, \"source\": 20, \"target\": 21, \"functor\": \"THEME\"}, {\"functor\": \"RESTR\", \"source\": 21, \"target\": 20}, {\"weight\": 1.0, \"source\": 22, \"target\": 18, \"functor\": \"AGENT\"}, {\"class\": \"on\", \"functor\": \"COMP\", \"source\": 22, \"target\": 21, \"pval\": \"on\"}, {\"functor\": \"ATTR\", \"source\": 22, \"target\": 14}, {\"class\": \"in\", \"functor\": \"COMP\", \"source\": 22, \"target\": 23, \"pval\": \"in\"}, {\"weight\": 1.0, \"source\": 24, \"target\": 27, \"functor\": \"AGENT\"}, {\"weight\": 1.0, \"source\": 25, \"target\": 29, \"functor\": \"THEME\"}, {\"class\": \"than\", \"functor\": \"COMP\", \"source\": 26, \"target\": 28, \"pval\": \"than\"}, {\"functor\": \"RESTR\", \"source\": 31, \"target\": 24}, {\"weight\": 1.0, \"source\": 32, \"target\": 25, \"functor\": \"COP\"}, {\"weight\": 1.0, \"source\": 32, \"target\": 34, \"functor\": \"COP\"}, {\"weight\": 1.0, \"source\": 32, \"target\": 31, \"functor\": \"COP\"}, {\"functor\": \"ATTR\", \"source\": 33, \"target\": 30}, {\"functor\": \"ATTR\", \"source\": 34, \"target\": 33}, {\"class\": \"on\", \"functor\": \"COP\", \"source\": 37, \"target\": 41, \"pval\": \"on\"}, {\"weight\": 1.0, \"source\": 37, \"target\": 46, \"functor\": \"COP\"}, {\"class\": \"beyond\", \"functor\": \"COP\", \"source\": 37, \"target\": 39, \"pval\": \"beyond\"}, {\"functor\": \"ATTR\", \"source\": 38, \"target\": 43}, {\"functor\": \"ATTR\", \"source\": 39, \"target\": 38}, {\"functor\": \"ATTR\", \"source\": 41, \"target\": 40}, {\"functor\": \"ATTR\", \"source\": 45, \"target\": 44}, {\"weight\": 1.0, \"source\": 46, \"target\": 42, \"functor\": \"THEME\"}, {\"class\": \"in\", \"functor\": \"COMP\", \"source\": 46, \"target\": 45, \"pval\": \"in\"}], \"nodes\": [{\"concept\": \"be\", \"tense\": null, \"id\": 0, \"polarity\": \"+\", \"sempos\": \"v\"}, {\"concept\": \"solve\", \"tense\": null, \"id\": 1, \"polarity\": \"+\", \"sempos\": \"v\"}, {\"concept\": \"goal\", \"proper\": false, \"num\": \"p\", \"id\": 2, \"sempos\": \"n\"}, {\"concept\": \"can\", \"tense\": null, \"id\": 3, \"polarity\": \"+\", \"sempos\": \"v\"}, {\"concept\": \"think\", \"tense\": null, \"id\": 4, \"polarity\": \"+\", \"sempos\": \"v\"}, {\"concept\": \"computer\", \"proper\": false, \"num\": \"p\", \"id\": 5, \"sempos\": \"n\"}, {\"concept\": \"ai\", \"proper\": false, \"num\": \"p\", \"id\": 6, \"sempos\": \"n\"}, {\"concept\": \"learn\", \"tense\": null, \"id\": 7, \"polarity\": \"+\", \"sempos\": \"v\"}, {\"concept\": \"extreme\", \"id\": 8, \"sempos\": \"j\"}, {\"concept\": \"logically\", \"id\": 9, \"sempos\": \"r\"}, {\"concept\": \"create\", \"tense\": null, \"id\": 10, \"polarity\": \"+\", \"sempos\": \"v\"}, {\"concept\": \"research\", \"proper\": false, \"num\": \"p\", \"id\": 11, \"sempos\": \"n\"}, {\"concept\": \"problem\", \"proper\": false, \"num\": \"p\", \"id\": 12, \"sempos\": \"n\"}, {\"concept\": \"program\", \"proper\": false, \"num\": \"p\", \"id\": 13, \"sempos\": \"n\"}, {\"concept\": \"however\", \"id\": 14, \"sempos\": \"r\"}, {\"concept\": \"most\", \"id\": 15, \"sempos\": \"j\"}, {\"concept\": \"computer\", \"proper\": false, \"num\": \"p\", \"id\": 16, \"sempos\": \"n\"}, {\"concept\": \"well\", \"id\": 17, \"sempos\": \"r\"}, {\"concept\": \"application\", \"proper\": false, \"num\": \"p\", \"id\": 18, \"sempos\": \"n\"}, {\"concept\": \"can\", \"tense\": null, \"id\": 19, \"polarity\": \"+\", \"sempos\": \"v\"}, {\"concept\": \"do\", \"tense\": null, \"id\": 20, \"polarity\": \"+\", \"sempos\": \"v\"}, {\"concept\": \"problem\", \"proper\": false, \"num\": \"p\", \"id\": 21, \"sempos\": \"n\"}, {\"aspect\": \"perfect\", \"concept\": \"pick\", \"sempos\": \"v\", \"tense\": null, \"id\": 22, \"polarity\": \"+\"}, {\"concept\": \"practice\", \"proper\": false, \"num\": \"p\", \"id\": 23, \"sempos\": \"n\"}, {\"concept\": \"do\", \"tense\": null, \"id\": 24, \"polarity\": \"+\", \"sempos\": \"v\"}, {\"concept\": \"do\", \"tense\": null, \"id\": 25, \"polarity\": \"+\", \"sempos\": \"v\"}, {\"concept\": \"good\", \"id\": 26, \"sempos\": \"j\"}, {\"concept\": \"computer\", \"proper\": false, \"num\": \"p\", \"id\": 27, \"sempos\": \"n\"}, {\"concept\": \"people\", \"proper\": false, \"num\": \"p\", \"id\": 28, \"sempos\": \"n\"}, {\"concept\": \"calculation\", \"proper\": false, \"num\": \"p\", \"id\": 29, \"sempos\": \"n\"}, {\"concept\": \"data\", \"proper\": false, \"num\": \"p\", \"id\": 30, \"sempos\": \"n\"}, {\"concept\": \"thing\", \"proper\": false, \"num\": \"p\", \"id\": 31, \"sempos\": \"n\"}, {\"concept\": \"be\", \"tense\": null, \"id\": 32, \"polarity\": \"+\", \"sempos\": \"v\"}, {\"concept\": \"base\", \"proper\": false, \"num\": \"p\", \"id\": 33, \"sempos\": \"n\"}, {\"concept\": \"searching\", \"proper\": false, \"num\": \"p\", \"id\": 34, \"sempos\": \"n\"}, {\"concept\": \"-PRON-\", \"id\": 35, \"sempos\": \"j\"}, {\"concept\": \"way\", \"proper\": false, \"num\": \"p\", \"id\": 36, \"sempos\": \"n\"}, {\"concept\": \"be\", \"tense\": null, \"id\": 37, \"polarity\": \"+\", \"sempos\": \"v\"}, {\"concept\": \"day\", \"proper\": false, \"num\": \"p\", \"id\": 38, \"sempos\": \"n\"}, {\"concept\": \"computing\", \"proper\": false, \"num\": \"p\", \"id\": 39, \"sempos\": \"n\"}, {\"concept\": \"other\", \"id\": 40, \"sempos\": \"j\"}, {\"concept\": \"hand\", \"proper\": false, \"num\": \"p\", \"id\": 41, \"sempos\": \"n\"}, {\"concept\": \"environment\", \"proper\": false, \"num\": \"p\", \"id\": 42, \"sempos\": \"n\"}, {\"concept\": \"present\", \"id\": 43, \"sempos\": \"j\"}, {\"concept\": \"real\", \"id\": 44, \"sempos\": \"j\"}, {\"concept\": \"sense\", \"proper\": false, \"num\": \"p\", \"id\": 45, \"sempos\": \"n\"}, {\"concept\": \"perceive\", \"tense\": null, \"id\": 46, \"polarity\": \"+\", \"sempos\": \"v\"}]}'))</script>"
      ],
      "text/plain": [
       "<IPython.core.display.HTML object>"
      ]
     },
     "execution_count": 8,
     "metadata": {},
     "output_type": "execute_result"
    }
   ],
   "source": [
    "visualize(G2)"
   ]
  }
 ],
 "metadata": {
  "kernelspec": {
   "display_name": "Python 3",
   "language": "python",
   "name": "python3"
  },
  "language_info": {
   "codemirror_mode": {
    "name": "ipython",
    "version": 3
   },
   "file_extension": ".py",
   "mimetype": "text/x-python",
   "name": "python",
   "nbconvert_exporter": "python",
   "pygments_lexer": "ipython3",
   "version": "3.5.4"
  }
 },
 "nbformat": 4,
 "nbformat_minor": 2
}
